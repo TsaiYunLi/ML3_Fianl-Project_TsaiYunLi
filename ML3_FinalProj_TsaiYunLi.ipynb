{
  "cells": [
    {
      "cell_type": "markdown",
      "metadata": {
        "id": "BBUTKEvsjyzu"
      },
      "source": [
        "## DTSA 5511 Introduction to Deep Learning - Final Project\n",
        "\n",
        "Project Title: BBC News Category Prediction: LR vs. ANN Classifiers <br>\n",
        "Date: 2023 Dec 30 <br>\n",
        "Author: Tsai-Yun Li <br>\n",
        "Course Lecturer: Geena Kim <br>\n",
        "Orginzation: University of Colorado Boulder <br>\n",
        "Kaggle Competition Name: BBC News Classification - News Articles Categorization <br>\n",
        "GitHub Repository Link: https://github.com/TsaiYunLi/ML3_Final-Project_TsaiYunLi"
      ]
    },
    {
      "cell_type": "markdown",
      "metadata": {
        "id": "8diVHG3Njyz2"
      },
      "source": [
        "## Table of Contents\n",
        "\n",
        "<br> 1. Problem Description",
        "<br> 2. Data Description",
        "<br> 3. Exploratory Data Analysis (EDA)",
        "  <br> 3.1 Basic EDA: Inspecting Features of the Dataframe",
        "  <br> 3.2 Basic EDA: Inspecting the Raw News Article Texts",
        "  <br> 3.3 Basic EDA: Basic Transformations of the News Article Texts",
        "  <br> 3.4 More EDA: NLP Transformations of the News Article Texts",
        "<br> 4. Data Splitting",
        "<br> 5. None-Deep Learning Hybrid Model: TFIDF_LR",
        "<br> 6. Deep Learning Hybrid Model: TFIDF_ANN",
        "<br> 7. Model Evaluation and Comparison",
        "  <br> 7.1 Evaluation of the None-Deep Learning Hybrid Model: TFIDF_LR",
        "  <br> 7.2 Evaluation of the Deep Learning Hybrid Model: TFIDF_ANN",
        "<br> 8. Discussion and Conclusion",
        "<br> 9. Refernces"
      ]
    },
    {
      "cell_type": "markdown",
      "metadata": {
        "id": "jvtfK597jyz4"
      },
      "source": [
        "### 1. Problem Description\n",
        "In this project, my goal is to solve the Kaggle competition task, a multi-class classification problem, of predicting some BBC news article categories by training and comparing two models on the provided labelled news articles:\n",
        "1. a none-deep learning hybrid model, TFIDF_LR = a term frequency–inverse document frequency (TF-IDF) vectorizer + a logistic regression (LR) classifier\n",
        "2. and a deep learning hybrid model, TFIDF_ANN = an TF-IDF vectorizer + an artificial neural network (ANN) classifier\n",
        "\n",
        "A vectorizer is necessary to preprocess the news article texts from strings to integers since machine learning models require numerical input. Among all the vectorizers, TF-IDF is chosen for its widespread use and availability as TfidfVectorizer in the sklearn library, and because that it is particularly suited to news article datasets where word frequency plays a crucial role in understanding context and facilitating categorization.\n",
        "\n",
        "The choice to use both an LR classifier and an ANN classifier here stems from their ability to effectively handle vectorized text data. LR is simpler than ANN, faster to train, and can handle linearly speparable features well. However, ANN can handle complexer, non-linearly seperable features. Therefore, it is worth comparing both classifiers to see which performs better at this news category multi-class classification prediction task."
      ]
    },
    {
      "cell_type": "markdown",
      "metadata": {
        "id": "c-COfvCAjyz4"
      },
      "source": [
        "### 2. Data Description\n",
        "\n",
        "As mentioned above, the datasets used in this project are from Kaggle (see section 9 for reference), including a training dataset 'BBC News Train.csv,' named as BBCtrain_data here, with 1490 rows and 3 columns, and a test dataset 'BBC News Test.csv,' named as BBCtest_data here, with 735 rows and 2 columns. Each row is an instance of BBC news article. The training set has columns 'ArticleID,' 'Text,' and 'Category'. While, the test set only has columns \"ArticleID,\" and \"Text.\" <br>\n",
        "\n",
        "Column name and value:\n",
        "1. ArticleId: a unique id for each BBC news article\n",
        "2. Text: the raw text of each BBC news article, header included\n",
        "3. Category: the cateogry of each BBC news article based on its content's topic, which could be 'tech', 'business', 'sport', 'entertainment', or 'politics'\n",
        "\n",
        "In this section, I will inspect the datasets' basic features introduced above."
      ]
    },
    {
      "cell_type": "code",
      "execution_count": 1,
      "metadata": {
        "id": "mSn7uqRAjyz6"
      },
      "outputs": [],
      "source": [
        "#importing and loading the datasets downloaded from Kaggle\n",
        "import pandas as pd\n",
        "\n",
        "BBCtrain_data = pd.read_csv('https://raw.githubusercontent.com/TsaiYunLi/ML3_Final-Project_TsaiYunLi/main/BBC%20News%20Train.csv')\n",
        "BBCtest_data = pd.read_csv('https://raw.githubusercontent.com/TsaiYunLi/ML3_Final-Project_TsaiYunLi/main/BBC%20News%20Test.csv')"
      ]
    },
    {
      "cell_type": "code",
      "execution_count": 2,
      "metadata": {
        "colab": {
          "base_uri": "https://localhost:8080/",
          "height": 242
        },
        "id": "nSxIuOr3jyz8",
        "outputId": "368fd410-fef1-4b7d-8c22-c85b8026ed32"
      },
      "outputs": [
        {
          "name": "stdout",
          "output_type": "stream",
          "text": [
            "BBCtrain_data shape = (1490, 3)\n",
            "BBCtrain_data head:\n"
          ]
        },
        {
          "data": {
            "text/html": [
              "\n",
              "  <div id=\"df-e777f784-fdff-442c-ad7c-8c21ef1a6f89\" class=\"colab-df-container\">\n",
              "    <div>\n",
              "<style scoped>\n",
              "    .dataframe tbody tr th:only-of-type {\n",
              "        vertical-align: middle;\n",
              "    }\n",
              "\n",
              "    .dataframe tbody tr th {\n",
              "        vertical-align: top;\n",
              "    }\n",
              "\n",
              "    .dataframe thead th {\n",
              "        text-align: right;\n",
              "    }\n",
              "</style>\n",
              "<table border=\"1\" class=\"dataframe\">\n",
              "  <thead>\n",
              "    <tr style=\"text-align: right;\">\n",
              "      <th></th>\n",
              "      <th>ArticleId</th>\n",
              "      <th>Text</th>\n",
              "      <th>Category</th>\n",
              "    </tr>\n",
              "  </thead>\n",
              "  <tbody>\n",
              "    <tr>\n",
              "      <th>0</th>\n",
              "      <td>1833</td>\n",
              "      <td>worldcom ex-boss launches defence lawyers defe...</td>\n",
              "      <td>business</td>\n",
              "    </tr>\n",
              "    <tr>\n",
              "      <th>1</th>\n",
              "      <td>154</td>\n",
              "      <td>german business confidence slides german busin...</td>\n",
              "      <td>business</td>\n",
              "    </tr>\n",
              "    <tr>\n",
              "      <th>2</th>\n",
              "      <td>1101</td>\n",
              "      <td>bbc poll indicates economic gloom citizens in ...</td>\n",
              "      <td>business</td>\n",
              "    </tr>\n",
              "    <tr>\n",
              "      <th>3</th>\n",
              "      <td>1976</td>\n",
              "      <td>lifestyle  governs mobile choice  faster  bett...</td>\n",
              "      <td>tech</td>\n",
              "    </tr>\n",
              "    <tr>\n",
              "      <th>4</th>\n",
              "      <td>917</td>\n",
              "      <td>enron bosses in $168m payout eighteen former e...</td>\n",
              "      <td>business</td>\n",
              "    </tr>\n",
              "  </tbody>\n",
              "</table>\n",
              "</div>\n",
              "    <div class=\"colab-df-buttons\">\n",
              "\n",
              "  <div class=\"colab-df-container\">\n",
              "    <button class=\"colab-df-convert\" onclick=\"convertToInteractive('df-e777f784-fdff-442c-ad7c-8c21ef1a6f89')\"\n",
              "            title=\"Convert this dataframe to an interactive table.\"\n",
              "            style=\"display:none;\">\n",
              "\n",
              "  <svg xmlns=\"http://www.w3.org/2000/svg\" height=\"24px\" viewBox=\"0 -960 960 960\">\n",
              "    <path d=\"M120-120v-720h720v720H120Zm60-500h600v-160H180v160Zm220 220h160v-160H400v160Zm0 220h160v-160H400v160ZM180-400h160v-160H180v160Zm440 0h160v-160H620v160ZM180-180h160v-160H180v160Zm440 0h160v-160H620v160Z\"/>\n",
              "  </svg>\n",
              "    </button>\n",
              "\n",
              "  <style>\n",
              "    .colab-df-container {\n",
              "      display:flex;\n",
              "      gap: 12px;\n",
              "    }\n",
              "\n",
              "    .colab-df-convert {\n",
              "      background-color: #E8F0FE;\n",
              "      border: none;\n",
              "      border-radius: 50%;\n",
              "      cursor: pointer;\n",
              "      display: none;\n",
              "      fill: #1967D2;\n",
              "      height: 32px;\n",
              "      padding: 0 0 0 0;\n",
              "      width: 32px;\n",
              "    }\n",
              "\n",
              "    .colab-df-convert:hover {\n",
              "      background-color: #E2EBFA;\n",
              "      box-shadow: 0px 1px 2px rgba(60, 64, 67, 0.3), 0px 1px 3px 1px rgba(60, 64, 67, 0.15);\n",
              "      fill: #174EA6;\n",
              "    }\n",
              "\n",
              "    .colab-df-buttons div {\n",
              "      margin-bottom: 4px;\n",
              "    }\n",
              "\n",
              "    [theme=dark] .colab-df-convert {\n",
              "      background-color: #3B4455;\n",
              "      fill: #D2E3FC;\n",
              "    }\n",
              "\n",
              "    [theme=dark] .colab-df-convert:hover {\n",
              "      background-color: #434B5C;\n",
              "      box-shadow: 0px 1px 3px 1px rgba(0, 0, 0, 0.15);\n",
              "      filter: drop-shadow(0px 1px 2px rgba(0, 0, 0, 0.3));\n",
              "      fill: #FFFFFF;\n",
              "    }\n",
              "  </style>\n",
              "\n",
              "    <script>\n",
              "      const buttonEl =\n",
              "        document.querySelector('#df-e777f784-fdff-442c-ad7c-8c21ef1a6f89 button.colab-df-convert');\n",
              "      buttonEl.style.display =\n",
              "        google.colab.kernel.accessAllowed ? 'block' : 'none';\n",
              "\n",
              "      async function convertToInteractive(key) {\n",
              "        const element = document.querySelector('#df-e777f784-fdff-442c-ad7c-8c21ef1a6f89');\n",
              "        const dataTable =\n",
              "          await google.colab.kernel.invokeFunction('convertToInteractive',\n",
              "                                                    [key], {});\n",
              "        if (!dataTable) return;\n",
              "\n",
              "        const docLinkHtml = 'Like what you see? Visit the ' +\n",
              "          '<a target=\"_blank\" href=https://colab.research.google.com/notebooks/data_table.ipynb>data table notebook</a>'\n",
              "          + ' to learn more about interactive tables.';\n",
              "        element.innerHTML = '';\n",
              "        dataTable['output_type'] = 'display_data';\n",
              "        await google.colab.output.renderOutput(dataTable, element);\n",
              "        const docLink = document.createElement('div');\n",
              "        docLink.innerHTML = docLinkHtml;\n",
              "        element.appendChild(docLink);\n",
              "      }\n",
              "    </script>\n",
              "  </div>\n",
              "\n",
              "\n",
              "<div id=\"df-fe891778-24d2-49af-9198-0a59ae4fe353\">\n",
              "  <button class=\"colab-df-quickchart\" onclick=\"quickchart('df-fe891778-24d2-49af-9198-0a59ae4fe353')\"\n",
              "            title=\"Suggest charts\"\n",
              "            style=\"display:none;\">\n",
              "\n",
              "<svg xmlns=\"http://www.w3.org/2000/svg\" height=\"24px\"viewBox=\"0 0 24 24\"\n",
              "     width=\"24px\">\n",
              "    <g>\n",
              "        <path d=\"M19 3H5c-1.1 0-2 .9-2 2v14c0 1.1.9 2 2 2h14c1.1 0 2-.9 2-2V5c0-1.1-.9-2-2-2zM9 17H7v-7h2v7zm4 0h-2V7h2v10zm4 0h-2v-4h2v4z\"/>\n",
              "    </g>\n",
              "</svg>\n",
              "  </button>\n",
              "\n",
              "<style>\n",
              "  .colab-df-quickchart {\n",
              "      --bg-color: #E8F0FE;\n",
              "      --fill-color: #1967D2;\n",
              "      --hover-bg-color: #E2EBFA;\n",
              "      --hover-fill-color: #174EA6;\n",
              "      --disabled-fill-color: #AAA;\n",
              "      --disabled-bg-color: #DDD;\n",
              "  }\n",
              "\n",
              "  [theme=dark] .colab-df-quickchart {\n",
              "      --bg-color: #3B4455;\n",
              "      --fill-color: #D2E3FC;\n",
              "      --hover-bg-color: #434B5C;\n",
              "      --hover-fill-color: #FFFFFF;\n",
              "      --disabled-bg-color: #3B4455;\n",
              "      --disabled-fill-color: #666;\n",
              "  }\n",
              "\n",
              "  .colab-df-quickchart {\n",
              "    background-color: var(--bg-color);\n",
              "    border: none;\n",
              "    border-radius: 50%;\n",
              "    cursor: pointer;\n",
              "    display: none;\n",
              "    fill: var(--fill-color);\n",
              "    height: 32px;\n",
              "    padding: 0;\n",
              "    width: 32px;\n",
              "  }\n",
              "\n",
              "  .colab-df-quickchart:hover {\n",
              "    background-color: var(--hover-bg-color);\n",
              "    box-shadow: 0 1px 2px rgba(60, 64, 67, 0.3), 0 1px 3px 1px rgba(60, 64, 67, 0.15);\n",
              "    fill: var(--button-hover-fill-color);\n",
              "  }\n",
              "\n",
              "  .colab-df-quickchart-complete:disabled,\n",
              "  .colab-df-quickchart-complete:disabled:hover {\n",
              "    background-color: var(--disabled-bg-color);\n",
              "    fill: var(--disabled-fill-color);\n",
              "    box-shadow: none;\n",
              "  }\n",
              "\n",
              "  .colab-df-spinner {\n",
              "    border: 2px solid var(--fill-color);\n",
              "    border-color: transparent;\n",
              "    border-bottom-color: var(--fill-color);\n",
              "    animation:\n",
              "      spin 1s steps(1) infinite;\n",
              "  }\n",
              "\n",
              "  @keyframes spin {\n",
              "    0% {\n",
              "      border-color: transparent;\n",
              "      border-bottom-color: var(--fill-color);\n",
              "      border-left-color: var(--fill-color);\n",
              "    }\n",
              "    20% {\n",
              "      border-color: transparent;\n",
              "      border-left-color: var(--fill-color);\n",
              "      border-top-color: var(--fill-color);\n",
              "    }\n",
              "    30% {\n",
              "      border-color: transparent;\n",
              "      border-left-color: var(--fill-color);\n",
              "      border-top-color: var(--fill-color);\n",
              "      border-right-color: var(--fill-color);\n",
              "    }\n",
              "    40% {\n",
              "      border-color: transparent;\n",
              "      border-right-color: var(--fill-color);\n",
              "      border-top-color: var(--fill-color);\n",
              "    }\n",
              "    60% {\n",
              "      border-color: transparent;\n",
              "      border-right-color: var(--fill-color);\n",
              "    }\n",
              "    80% {\n",
              "      border-color: transparent;\n",
              "      border-right-color: var(--fill-color);\n",
              "      border-bottom-color: var(--fill-color);\n",
              "    }\n",
              "    90% {\n",
              "      border-color: transparent;\n",
              "      border-bottom-color: var(--fill-color);\n",
              "    }\n",
              "  }\n",
              "</style>\n",
              "\n",
              "  <script>\n",
              "    async function quickchart(key) {\n",
              "      const quickchartButtonEl =\n",
              "        document.querySelector('#' + key + ' button');\n",
              "      quickchartButtonEl.disabled = true;  // To prevent multiple clicks.\n",
              "      quickchartButtonEl.classList.add('colab-df-spinner');\n",
              "      try {\n",
              "        const charts = await google.colab.kernel.invokeFunction(\n",
              "            'suggestCharts', [key], {});\n",
              "      } catch (error) {\n",
              "        console.error('Error during call to suggestCharts:', error);\n",
              "      }\n",
              "      quickchartButtonEl.classList.remove('colab-df-spinner');\n",
              "      quickchartButtonEl.classList.add('colab-df-quickchart-complete');\n",
              "    }\n",
              "    (() => {\n",
              "      let quickchartButtonEl =\n",
              "        document.querySelector('#df-fe891778-24d2-49af-9198-0a59ae4fe353 button');\n",
              "      quickchartButtonEl.style.display =\n",
              "        google.colab.kernel.accessAllowed ? 'block' : 'none';\n",
              "    })();\n",
              "  </script>\n",
              "</div>\n",
              "\n",
              "    </div>\n",
              "  </div>\n"
            ],
            "text/plain": [
              "   ArticleId                                               Text  Category\n",
              "0       1833  worldcom ex-boss launches defence lawyers defe...  business\n",
              "1        154  german business confidence slides german busin...  business\n",
              "2       1101  bbc poll indicates economic gloom citizens in ...  business\n",
              "3       1976  lifestyle  governs mobile choice  faster  bett...      tech\n",
              "4        917  enron bosses in $168m payout eighteen former e...  business"
            ]
          },
          "execution_count": 2,
          "metadata": {},
          "output_type": "execute_result"
        }
      ],
      "source": [
        "print('BBCtrain_data shape =', BBCtrain_data.shape)\n",
        "print('BBCtrain_data head:')\n",
        "BBCtrain_data.head()"
      ]
    },
    {
      "cell_type": "code",
      "execution_count": 3,
      "metadata": {
        "colab": {
          "base_uri": "https://localhost:8080/"
        },
        "id": "3j8AuYH6jyz_",
        "outputId": "43246bde-40e9-4dd9-c5b8-8d0ccdf6cc43"
      },
      "outputs": [
        {
          "name": "stdout",
          "output_type": "stream",
          "text": [
            "There are these unique categories in BBCtrain_data: sport            346\n",
            "business         336\n",
            "politics         274\n",
            "entertainment    273\n",
            "tech             261\n",
            "Name: Category, dtype: int64\n"
          ]
        }
      ],
      "source": [
        "unique_categories = BBCtrain_data['Category'].value_counts()\n",
        "print(\"There are these unique categories in BBCtrain_data:\", unique_categories)"
      ]
    },
    {
      "cell_type": "code",
      "execution_count": 4,
      "metadata": {
        "colab": {
          "base_uri": "https://localhost:8080/",
          "height": 242
        },
        "id": "kSs8njgIjyz_",
        "outputId": "155c1593-6bcf-44f3-e10b-14531ce6edf1"
      },
      "outputs": [
        {
          "name": "stdout",
          "output_type": "stream",
          "text": [
            "BBCtest_data shape = (735, 2)\n",
            "BBCtest_data head:\n"
          ]
        },
        {
          "data": {
            "text/html": [
              "\n",
              "  <div id=\"df-9db62c2b-650d-4262-8021-878c8c0d4407\" class=\"colab-df-container\">\n",
              "    <div>\n",
              "<style scoped>\n",
              "    .dataframe tbody tr th:only-of-type {\n",
              "        vertical-align: middle;\n",
              "    }\n",
              "\n",
              "    .dataframe tbody tr th {\n",
              "        vertical-align: top;\n",
              "    }\n",
              "\n",
              "    .dataframe thead th {\n",
              "        text-align: right;\n",
              "    }\n",
              "</style>\n",
              "<table border=\"1\" class=\"dataframe\">\n",
              "  <thead>\n",
              "    <tr style=\"text-align: right;\">\n",
              "      <th></th>\n",
              "      <th>ArticleId</th>\n",
              "      <th>Text</th>\n",
              "    </tr>\n",
              "  </thead>\n",
              "  <tbody>\n",
              "    <tr>\n",
              "      <th>0</th>\n",
              "      <td>1018</td>\n",
              "      <td>qpr keeper day heads for preston queens park r...</td>\n",
              "    </tr>\n",
              "    <tr>\n",
              "      <th>1</th>\n",
              "      <td>1319</td>\n",
              "      <td>software watching while you work software that...</td>\n",
              "    </tr>\n",
              "    <tr>\n",
              "      <th>2</th>\n",
              "      <td>1138</td>\n",
              "      <td>d arcy injury adds to ireland woe gordon d arc...</td>\n",
              "    </tr>\n",
              "    <tr>\n",
              "      <th>3</th>\n",
              "      <td>459</td>\n",
              "      <td>india s reliance family feud heats up the ongo...</td>\n",
              "    </tr>\n",
              "    <tr>\n",
              "      <th>4</th>\n",
              "      <td>1020</td>\n",
              "      <td>boro suffer morrison injury blow middlesbrough...</td>\n",
              "    </tr>\n",
              "  </tbody>\n",
              "</table>\n",
              "</div>\n",
              "    <div class=\"colab-df-buttons\">\n",
              "\n",
              "  <div class=\"colab-df-container\">\n",
              "    <button class=\"colab-df-convert\" onclick=\"convertToInteractive('df-9db62c2b-650d-4262-8021-878c8c0d4407')\"\n",
              "            title=\"Convert this dataframe to an interactive table.\"\n",
              "            style=\"display:none;\">\n",
              "\n",
              "  <svg xmlns=\"http://www.w3.org/2000/svg\" height=\"24px\" viewBox=\"0 -960 960 960\">\n",
              "    <path d=\"M120-120v-720h720v720H120Zm60-500h600v-160H180v160Zm220 220h160v-160H400v160Zm0 220h160v-160H400v160ZM180-400h160v-160H180v160Zm440 0h160v-160H620v160ZM180-180h160v-160H180v160Zm440 0h160v-160H620v160Z\"/>\n",
              "  </svg>\n",
              "    </button>\n",
              "\n",
              "  <style>\n",
              "    .colab-df-container {\n",
              "      display:flex;\n",
              "      gap: 12px;\n",
              "    }\n",
              "\n",
              "    .colab-df-convert {\n",
              "      background-color: #E8F0FE;\n",
              "      border: none;\n",
              "      border-radius: 50%;\n",
              "      cursor: pointer;\n",
              "      display: none;\n",
              "      fill: #1967D2;\n",
              "      height: 32px;\n",
              "      padding: 0 0 0 0;\n",
              "      width: 32px;\n",
              "    }\n",
              "\n",
              "    .colab-df-convert:hover {\n",
              "      background-color: #E2EBFA;\n",
              "      box-shadow: 0px 1px 2px rgba(60, 64, 67, 0.3), 0px 1px 3px 1px rgba(60, 64, 67, 0.15);\n",
              "      fill: #174EA6;\n",
              "    }\n",
              "\n",
              "    .colab-df-buttons div {\n",
              "      margin-bottom: 4px;\n",
              "    }\n",
              "\n",
              "    [theme=dark] .colab-df-convert {\n",
              "      background-color: #3B4455;\n",
              "      fill: #D2E3FC;\n",
              "    }\n",
              "\n",
              "    [theme=dark] .colab-df-convert:hover {\n",
              "      background-color: #434B5C;\n",
              "      box-shadow: 0px 1px 3px 1px rgba(0, 0, 0, 0.15);\n",
              "      filter: drop-shadow(0px 1px 2px rgba(0, 0, 0, 0.3));\n",
              "      fill: #FFFFFF;\n",
              "    }\n",
              "  </style>\n",
              "\n",
              "    <script>\n",
              "      const buttonEl =\n",
              "        document.querySelector('#df-9db62c2b-650d-4262-8021-878c8c0d4407 button.colab-df-convert');\n",
              "      buttonEl.style.display =\n",
              "        google.colab.kernel.accessAllowed ? 'block' : 'none';\n",
              "\n",
              "      async function convertToInteractive(key) {\n",
              "        const element = document.querySelector('#df-9db62c2b-650d-4262-8021-878c8c0d4407');\n",
              "        const dataTable =\n",
              "          await google.colab.kernel.invokeFunction('convertToInteractive',\n",
              "                                                    [key], {});\n",
              "        if (!dataTable) return;\n",
              "\n",
              "        const docLinkHtml = 'Like what you see? Visit the ' +\n",
              "          '<a target=\"_blank\" href=https://colab.research.google.com/notebooks/data_table.ipynb>data table notebook</a>'\n",
              "          + ' to learn more about interactive tables.';\n",
              "        element.innerHTML = '';\n",
              "        dataTable['output_type'] = 'display_data';\n",
              "        await google.colab.output.renderOutput(dataTable, element);\n",
              "        const docLink = document.createElement('div');\n",
              "        docLink.innerHTML = docLinkHtml;\n",
              "        element.appendChild(docLink);\n",
              "      }\n",
              "    </script>\n",
              "  </div>\n",
              "\n",
              "\n",
              "<div id=\"df-78dd60c6-5067-4f56-adf3-6ca0d4da02d8\">\n",
              "  <button class=\"colab-df-quickchart\" onclick=\"quickchart('df-78dd60c6-5067-4f56-adf3-6ca0d4da02d8')\"\n",
              "            title=\"Suggest charts\"\n",
              "            style=\"display:none;\">\n",
              "\n",
              "<svg xmlns=\"http://www.w3.org/2000/svg\" height=\"24px\"viewBox=\"0 0 24 24\"\n",
              "     width=\"24px\">\n",
              "    <g>\n",
              "        <path d=\"M19 3H5c-1.1 0-2 .9-2 2v14c0 1.1.9 2 2 2h14c1.1 0 2-.9 2-2V5c0-1.1-.9-2-2-2zM9 17H7v-7h2v7zm4 0h-2V7h2v10zm4 0h-2v-4h2v4z\"/>\n",
              "    </g>\n",
              "</svg>\n",
              "  </button>\n",
              "\n",
              "<style>\n",
              "  .colab-df-quickchart {\n",
              "      --bg-color: #E8F0FE;\n",
              "      --fill-color: #1967D2;\n",
              "      --hover-bg-color: #E2EBFA;\n",
              "      --hover-fill-color: #174EA6;\n",
              "      --disabled-fill-color: #AAA;\n",
              "      --disabled-bg-color: #DDD;\n",
              "  }\n",
              "\n",
              "  [theme=dark] .colab-df-quickchart {\n",
              "      --bg-color: #3B4455;\n",
              "      --fill-color: #D2E3FC;\n",
              "      --hover-bg-color: #434B5C;\n",
              "      --hover-fill-color: #FFFFFF;\n",
              "      --disabled-bg-color: #3B4455;\n",
              "      --disabled-fill-color: #666;\n",
              "  }\n",
              "\n",
              "  .colab-df-quickchart {\n",
              "    background-color: var(--bg-color);\n",
              "    border: none;\n",
              "    border-radius: 50%;\n",
              "    cursor: pointer;\n",
              "    display: none;\n",
              "    fill: var(--fill-color);\n",
              "    height: 32px;\n",
              "    padding: 0;\n",
              "    width: 32px;\n",
              "  }\n",
              "\n",
              "  .colab-df-quickchart:hover {\n",
              "    background-color: var(--hover-bg-color);\n",
              "    box-shadow: 0 1px 2px rgba(60, 64, 67, 0.3), 0 1px 3px 1px rgba(60, 64, 67, 0.15);\n",
              "    fill: var(--button-hover-fill-color);\n",
              "  }\n",
              "\n",
              "  .colab-df-quickchart-complete:disabled,\n",
              "  .colab-df-quickchart-complete:disabled:hover {\n",
              "    background-color: var(--disabled-bg-color);\n",
              "    fill: var(--disabled-fill-color);\n",
              "    box-shadow: none;\n",
              "  }\n",
              "\n",
              "  .colab-df-spinner {\n",
              "    border: 2px solid var(--fill-color);\n",
              "    border-color: transparent;\n",
              "    border-bottom-color: var(--fill-color);\n",
              "    animation:\n",
              "      spin 1s steps(1) infinite;\n",
              "  }\n",
              "\n",
              "  @keyframes spin {\n",
              "    0% {\n",
              "      border-color: transparent;\n",
              "      border-bottom-color: var(--fill-color);\n",
              "      border-left-color: var(--fill-color);\n",
              "    }\n",
              "    20% {\n",
              "      border-color: transparent;\n",
              "      border-left-color: var(--fill-color);\n",
              "      border-top-color: var(--fill-color);\n",
              "    }\n",
              "    30% {\n",
              "      border-color: transparent;\n",
              "      border-left-color: var(--fill-color);\n",
              "      border-top-color: var(--fill-color);\n",
              "      border-right-color: var(--fill-color);\n",
              "    }\n",
              "    40% {\n",
              "      border-color: transparent;\n",
              "      border-right-color: var(--fill-color);\n",
              "      border-top-color: var(--fill-color);\n",
              "    }\n",
              "    60% {\n",
              "      border-color: transparent;\n",
              "      border-right-color: var(--fill-color);\n",
              "    }\n",
              "    80% {\n",
              "      border-color: transparent;\n",
              "      border-right-color: var(--fill-color);\n",
              "      border-bottom-color: var(--fill-color);\n",
              "    }\n",
              "    90% {\n",
              "      border-color: transparent;\n",
              "      border-bottom-color: var(--fill-color);\n",
              "    }\n",
              "  }\n",
              "</style>\n",
              "\n",
              "  <script>\n",
              "    async function quickchart(key) {\n",
              "      const quickchartButtonEl =\n",
              "        document.querySelector('#' + key + ' button');\n",
              "      quickchartButtonEl.disabled = true;  // To prevent multiple clicks.\n",
              "      quickchartButtonEl.classList.add('colab-df-spinner');\n",
              "      try {\n",
              "        const charts = await google.colab.kernel.invokeFunction(\n",
              "            'suggestCharts', [key], {});\n",
              "      } catch (error) {\n",
              "        console.error('Error during call to suggestCharts:', error);\n",
              "      }\n",
              "      quickchartButtonEl.classList.remove('colab-df-spinner');\n",
              "      quickchartButtonEl.classList.add('colab-df-quickchart-complete');\n",
              "    }\n",
              "    (() => {\n",
              "      let quickchartButtonEl =\n",
              "        document.querySelector('#df-78dd60c6-5067-4f56-adf3-6ca0d4da02d8 button');\n",
              "      quickchartButtonEl.style.display =\n",
              "        google.colab.kernel.accessAllowed ? 'block' : 'none';\n",
              "    })();\n",
              "  </script>\n",
              "</div>\n",
              "\n",
              "    </div>\n",
              "  </div>\n"
            ],
            "text/plain": [
              "   ArticleId                                               Text\n",
              "0       1018  qpr keeper day heads for preston queens park r...\n",
              "1       1319  software watching while you work software that...\n",
              "2       1138  d arcy injury adds to ireland woe gordon d arc...\n",
              "3        459  india s reliance family feud heats up the ongo...\n",
              "4       1020  boro suffer morrison injury blow middlesbrough..."
            ]
          },
          "execution_count": 4,
          "metadata": {},
          "output_type": "execute_result"
        }
      ],
      "source": [
        "print('BBCtest_data shape =', BBCtest_data.shape)\n",
        "print('BBCtest_data head:')\n",
        "BBCtest_data.head()"
      ]
    },
    {
      "cell_type": "markdown",
      "metadata": {
        "id": "L0KnuQxNjy0A"
      },
      "source": [
        "### 3.  Exploratory Data Analysis (EDA): Data Inspection, Visualization, Cleaning, and Transformation\n",
        "\n",
        "In this section, I will perform an exploratory data analysis on the datasets BBCtrain_data and BBCtest_data, including further inspection on the datasets, visualizations of their features. Most importantly, I will prepare the datasets for model-training in later sections by doing some data cleaning and data transformation. <br>\n",
        "\n",
        "There are four subsections in this section, from basic to more advanced EDA: <br>\n",
        "3.1 Basic EDA: Inspecting Features of the Dataframe <br>\n",
        "3.2 Basic EDA: Inspecting the Raw News Article Texts <br>\n",
        "3.3 Basic EDA: Basic Transformations of the News Article Texts <br>\n",
        "3.4 More EDA: NLP Transformations of the News Article Texts <br>\n",
        "\n",
        "A short summary will be provided at the end of each subsection."
      ]
    },
    {
      "cell_type": "markdown",
      "metadata": {
        "id": "vZEbse3Yjy0A"
      },
      "source": [
        "##### 3.1 Basic EDA: Inpecting Features of the Dataframe"
      ]
    },
    {
      "cell_type": "code",
      "execution_count": 5,
      "metadata": {
        "colab": {
          "base_uri": "https://localhost:8080/"
        },
        "id": "uPe3s9GSjy0A",
        "outputId": "cdcdda0f-27a1-4c12-ab2a-700c76220b49"
      },
      "outputs": [
        {
          "name": "stdout",
          "output_type": "stream",
          "text": [
            "checking for null values and data type in BBCtrain_data:\n",
            "<class 'pandas.core.frame.DataFrame'>\n",
            "RangeIndex: 1490 entries, 0 to 1489\n",
            "Data columns (total 3 columns):\n",
            " #   Column     Non-Null Count  Dtype \n",
            "---  ------     --------------  ----- \n",
            " 0   ArticleId  1490 non-null   int64 \n",
            " 1   Text       1490 non-null   object\n",
            " 2   Category   1490 non-null   object\n",
            "dtypes: int64(1), object(2)\n",
            "memory usage: 35.0+ KB\n"
          ]
        }
      ],
      "source": [
        "# checking for null values and data type in BBCtrain_data\n",
        "print(\"checking for null values and data type in BBCtrain_data:\")\n",
        "BBCtrain_data.info()"
      ]
    },
    {
      "cell_type": "code",
      "execution_count": 6,
      "metadata": {
        "colab": {
          "base_uri": "https://localhost:8080/"
        },
        "id": "XH9D5PYmjy0B",
        "outputId": "76889266-625d-4c75-a5a1-6817ad46df7c"
      },
      "outputs": [
        {
          "name": "stdout",
          "output_type": "stream",
          "text": [
            "checking for null values and data type in BBCtest_data:\n",
            "<class 'pandas.core.frame.DataFrame'>\n",
            "RangeIndex: 735 entries, 0 to 734\n",
            "Data columns (total 2 columns):\n",
            " #   Column     Non-Null Count  Dtype \n",
            "---  ------     --------------  ----- \n",
            " 0   ArticleId  735 non-null    int64 \n",
            " 1   Text       735 non-null    object\n",
            "dtypes: int64(1), object(1)\n",
            "memory usage: 11.6+ KB\n"
          ]
        }
      ],
      "source": [
        "# checking for null values and data type in BBCtest_data\n",
        "print(\"checking for null values and data type in BBCtest_data:\")\n",
        "BBCtest_data.info()"
      ]
    },
    {
      "cell_type": "code",
      "execution_count": 7,
      "metadata": {
        "colab": {
          "base_uri": "https://localhost:8080/"
        },
        "id": "nc6_sOC0jy0C",
        "outputId": "d3ff9cb9-08b1-49ed-db5e-89a37de40fac"
      },
      "outputs": [
        {
          "name": "stdout",
          "output_type": "stream",
          "text": [
            "number of duplicated rows in BBCtrain_data: 0\n"
          ]
        }
      ],
      "source": [
        "# checking for duplicated rows in BBCtrain_data\n",
        "train_duplicates = BBCtrain_data.duplicated().sum()\n",
        "print(\"number of duplicated rows in BBCtrain_data:\", train_duplicates)"
      ]
    },
    {
      "cell_type": "code",
      "execution_count": 8,
      "metadata": {
        "colab": {
          "base_uri": "https://localhost:8080/"
        },
        "id": "jGWGNZSJjy0C",
        "outputId": "161a6f2b-bfbb-4ec2-c914-1e9ec0ecc896"
      },
      "outputs": [
        {
          "name": "stdout",
          "output_type": "stream",
          "text": [
            "number of duplicated rows in BBCtest_data: 0\n"
          ]
        }
      ],
      "source": [
        "# checking for duplicated rows in BBCtest_data\n",
        "test_duplicates = BBCtest_data.duplicated().sum()\n",
        "print(\"number of duplicated rows in BBCtest_data:\", test_duplicates)"
      ]
    },
    {
      "cell_type": "code",
      "execution_count": 9,
      "metadata": {
        "colab": {
          "base_uri": "https://localhost:8080/",
          "height": 472
        },
        "id": "HtfbNaXWjy0D",
        "outputId": "226e3996-4e97-4330-ab44-b935daa23186"
      },
      "outputs": [
        {
          "data": {
            "image/png": "[encoded data removed]",
            "text/plain": [
              "<Figure size 640x480 with 1 Axes>"
            ]
          },
          "metadata": {},
          "output_type": "display_data"
        }
      ],
      "source": [
        "# visualizing the distribution of news article categories in BBCtrain_data\n",
        "import matplotlib.pyplot as plt\n",
        "train_category_counts = BBCtrain_data['Category'].value_counts()\n",
        "hitogram_bars = plt.bar(train_category_counts.index, train_category_counts.values, color='skyblue')\n",
        "plt.xlabel('Category')\n",
        "plt.ylabel('Count')\n",
        "plt.title('Distribution of Categories in BBCtrain_data')\n",
        "\n",
        "for hitogram_bar in hitogram_bars:\n",
        "    yval = hitogram_bar.get_height()\n",
        "    plt.text(hitogram_bar.get_x() + hitogram_bar.get_width()/2, yval + 0.05, round(yval, 2), va='bottom', ha='center')\n",
        "\n",
        "plt.show()"
      ]
    },
    {
      "cell_type": "code",
      "execution_count": 10,
      "metadata": {
        "colab": {
          "base_uri": "https://localhost:8080/"
        },
        "id": "Po1XSrDVjy0D",
        "outputId": "06728180-c855-4467-81df-178403892a2d"
      },
      "outputs": [
        {
          "name": "stdout",
          "output_type": "stream",
          "text": [
            "Mean count of articles per category in BBCtrain_data: 298.0\n",
            "Standard deviation of article counts per category in BBCtrain_data: 40.0\n"
          ]
        }
      ],
      "source": [
        "# checking if BBCtrain_data has a rather balanced mix of categories\n",
        "train_category_mean = train_category_counts.mean()\n",
        "train_category_std = round(train_category_counts.std(), 0)\n",
        "\n",
        "print(\"Mean count of articles per category in BBCtrain_data:\", train_category_mean)\n",
        "print(\"Standard deviation of article counts per category in BBCtrain_data:\", train_category_std)"
      ]
    },
    {
      "cell_type": "markdown",
      "metadata": {
        "id": "4KTOLNAbjy0F"
      },
      "source": [
        "##### Summary for Section 3.1:\n",
        "1. There is neither null nor duplicated data in BBCtrain_data and BBCtest_data.\n",
        "2. Due to the purpose of this project, there is no need to do statistical analysis on column 'ArticleId' and 'Text' in BBCtrain_data or BBCtest_data.\n",
        "3. The distribution of 'Category' in BBCtrain_data is pretty balanced, with an average of 298 +- standard deviation 40 articles per category. The number of articles per category in BBCtrain_data is: 346 'sport,' 336 'business,' 274 'politics,' 273 'entertainment,' and 261' tech.'"
      ]
    },
    {
      "cell_type": "markdown",
      "metadata": {
        "id": "MZD-_Xzdjy0G"
      },
      "source": [
        "##### 3.2 Basic EDA: Inspecting the Raw News Article Texts"
      ]
    },
    {
      "cell_type": "code",
      "execution_count": 11,
      "metadata": {
        "colab": {
          "base_uri": "https://localhost:8080/"
        },
        "id": "dt4spCX3jy0G",
        "outputId": "dbd49980-0296-4d7c-c964-5c03c9bf1115"
      },
      "outputs": [
        {
          "name": "stdout",
          "output_type": "stream",
          "text": [
            "big war games battle it out the arrival of new titles in the popular medal of honor and call of duty franchises leaves fans of wartime battle titles spoilt for choice.  the acclaimed pc title call of duty has been updated for console formats  building on many of the original s elements. for its part  the long-running medal of honor series has added pacific assault to its pc catalogue  adapting the console game rising sun. call of duty: finest hour casts you as a succession of allied soldiers fighting on world war 2 battlefronts including russia and north africa. it is a traditional first-person-viewed game that lets you control just one character  in the midst of a unit where cohorts constantly bark orders at you. on a near-identical note  medal of honor: pacific assault does all it can to make you feel part of a tight-knit team and plum in the middle of all-out action. its arenas are the war s pacific battles  including guadalcanal and pearl harbour. you play one character throughout  a raw and rather talkative us soldier.  both games rely on a carefully stage-managed structure that keeps things ticking along. when this works  it is a brilliant device to make you feel part of a story. when it does not  it is tedious.  a winning moment is an early scene in pacific assault  where you come under attack at the famous us base in hawaii. you are first ushered into a gunboat attacking the incoming waves of japanese planes  then made to descend into a sinking battleship to rescue crewman  before seizing the anti-aircraft guns. it is one of the finest set-pieces ever seen in a video game. this notion of shuffling the player along a studiously pre-determined path  forcibly witnessing a series of pre-set moments of action  is a perilous business which can make the whole affair feel stilted rather than organic. the genius of something like half life 2 is that it skilfully disguises its linear plotting by various means of misdirection. this pair of games do not really accomplish that  being more concerned with imparting a full-on atmospheric experience.  call of duty comes with a suitably bombastic score and overblown presentation. finest hour has a similar determination  framing everything in moody wartime music  archive footage and lots of reflective voice-overs.  letting you play a number of different roles is an interesting ploy that adds new dimensions to the call of duty endeavour  even if it sacrifices the narrative flow somewhat. the game s drawback could be said to be its format; tastes differ  but these wartime shooters often do seem to work better on pc. the mouse control is a big reason why  along with the sharper graphics a top-end computer can muster and the apparent notion that pc games are allowed to get away with a bit more subtlety. call of duty on pc was more detailed  plot-wise and graphically  and this new adaptation feels a little rough and ready. targeting with the ps2 controller proved tricky  not helped by unconvincing collision-detection. you can shoot an enemy repeatedly with zero question as to your aim  yet the bullets will just refuse to hit him. checkpoints are so few and far between that when you get shot  which happens regularly  you are set harshly far back  and will find yourself covering vast tracts of scorched earth again and again. the game wants to be a challenge  and is  and many players will like it for that. it is as dynamic a battlefield simulator as you will experience and even if it is not as refined as its pc parent  the sense of being part of the action is thoroughly impressive.  both of these games feature military colleagues who are disturbingly bad shots and prone to odd behaviour. and in pacific assault in particular  their commands and comments are irritatingly meaningless.  but the teamwork element in titles like this is superficial  designed to add atmosphere and camaraderie rather than affect the gameplay mechanics at all. of the two games  pacific assault gets more things right  including little points like auto-saving intelligently and having tidier presentation. it engages you very well and also looks wonderful  making the most of the lush tropical settings that are reminiscent of the glorious far cry  although we had to ramp up the settings on a high-spec machine to get the most out of them. finest hour is by no means bad  and it is only because the pc original was so dazzling that this version sometimes feels underwhelming. those looking for a wartime game with plenty of atmosphere and a hearty abundance of enemies to shoot will be contented. but they will also have a niggling puzzlement as to why it does not break a little more ground rather then just being competent.\n"
          ]
        }
      ],
      "source": [
        "# inspecting the raw text from a random row in BBCtrain_data\n",
        "train_rand_row = BBCtrain_data.sample(n=1, random_state=20231228)\n",
        "print(train_rand_row['Text'].values[0])"
      ]
    },
    {
      "cell_type": "code",
      "execution_count": 12,
      "metadata": {
        "colab": {
          "base_uri": "https://localhost:8080/"
        },
        "id": "1bHoRuxvjy0H",
        "outputId": "7cb99427-2e3f-4d9b-cfbd-93d306fbbd0b"
      },
      "outputs": [
        {
          "name": "stdout",
          "output_type": "stream",
          "text": [
            "howl helps boost japan s cinemas japan s box office received a 3.8% boost last year  with ticket sales worth 211bn yen (£1.08bn).  the surge was led by animated movie howl s moving castle  which took 20bn yen (£102m) to become the biggest film in japan in 2004. it is expected to match the 30.7bn yen (£157m) record of hayao miyazaki s previous film spirited away. japan motion picture producers figures showed that 170 million cinema admissions were made in japan in 2004. the last samurai  starring tom cruise  was the biggest foreign movie hit in japan last year  taking 13.8bn yen (£70.7m).  it was followed by harry potter and the prisoner of azkaban  finding nemo and the lord of the rings: the return of the king. the second highest-grossing japanese film was romantic drama crying out love in the centre of the world  followed by be with you and pocket monsters advanced generation. japanese films accounted for 37.5% of japan s box office total last year  with foreign films taking the remaining 62.5%. this represented a 4.5% gain for the proportion of japanese films in 2004 compared to 2003. the number of japanese films released rose to 310 in 2004 from 287 the previous year. sales of movies on dvd and video amounted to 497bn yen (£2.54bn) for the year.\n"
          ]
        }
      ],
      "source": [
        "# inspecting the raw text from a random row in BBCtest_data\n",
        "test_rand_row = BBCtest_data.sample(n=1, random_state=20231228)\n",
        "print(test_rand_row['Text'].values[0])"
      ]
    },
    {
      "cell_type": "code",
      "execution_count": 13,
      "metadata": {
        "colab": {
          "base_uri": "https://localhost:8080/"
        },
        "id": "jlPFVB0Mjy0I",
        "outputId": "dbe41fdd-7730-4832-9110-feab9e45c209"
      },
      "outputs": [
        {
          "name": "stdout",
          "output_type": "stream",
          "text": [
            "raw text average word count in BBCtrain_data: 385.01275167785235\n",
            "raw text max word count in BBCtrain_data: 3345\n",
            "raw text min word count in BBCtrain_data: 90 \n",
            "\n",
            "raw text average word count in BBCtest_data: 401.0040816326531\n",
            "raw text max word count in BBCtest_data: 4492\n",
            "raw text min word count in BBCtest_data: 126\n"
          ]
        }
      ],
      "source": [
        "# computing average, max, min word count for the raw texts in BBCtrain_data\n",
        "BBCtrain_raw_avg = BBCtrain_data['Text'].apply(lambda x: len(str(x).split())).mean()\n",
        "BBCtrain_raw_max = BBCtrain_data['Text'].apply(lambda x: len(str(x).split())).max()\n",
        "BBCtrain_raw_min = BBCtrain_data['Text'].apply(lambda x: len(str(x).split())).min()\n",
        "print(\"raw text average word count in BBCtrain_data:\", BBCtrain_raw_avg)\n",
        "print(\"raw text max word count in BBCtrain_data:\", BBCtrain_raw_max)\n",
        "print(\"raw text min word count in BBCtrain_data:\", BBCtrain_raw_min, \"\\n\")\n",
        "\n",
        "# computing average, max, min word count for the raw texts in BBCtest_data\n",
        "BBCtest_raw_avg = BBCtest_data['Text'].apply(lambda x: len(str(x).split())).mean()\n",
        "BBCtest_raw_max = BBCtest_data['Text'].apply(lambda x: len(str(x).split())).max()\n",
        "BBCtest_raw_min = BBCtest_data['Text'].apply(lambda x: len(str(x).split())).min()\n",
        "print(\"raw text average word count in BBCtest_data:\", BBCtest_raw_avg)\n",
        "print(\"raw text max word count in BBCtest_data:\", BBCtest_raw_max)\n",
        "print(\"raw text min word count in BBCtest_data:\", BBCtest_raw_min)"
      ]
    },
    {
      "cell_type": "code",
      "execution_count": 14,
      "metadata": {
        "colab": {
          "base_uri": "https://localhost:8080/",
          "height": 472
        },
        "id": "3V6_SwGMjy0J",
        "outputId": "98046b73-e67b-40e1-84eb-f6abf7c8f1d0"
      },
      "outputs": [
        {
          "data": {
            "image/png": "[encoded data removed]",
            "text/plain": [
              "<Figure size 640x480 with 1 Axes>"
            ]
          },
          "metadata": {},
          "output_type": "display_data"
        }
      ],
      "source": [
        "# visualizing the word count distribution for the raw texts in BBCtrain_data\n",
        "BBCtrain_cleaned_word_count = BBCtrain_data['Text'].apply(lambda x: len(str(x).split()))\n",
        "plt.hist(BBCtrain_cleaned_word_count, bins = 50, edgecolor='k')\n",
        "plt.title('Distribution of Cleaned Text Word Count in BBCtrain_data')\n",
        "plt.xlabel('Word Count')\n",
        "plt.ylabel('Frequency')\n",
        "plt.show()"
      ]
    },
    {
      "cell_type": "code",
      "execution_count": 15,
      "metadata": {
        "colab": {
          "base_uri": "https://localhost:8080/",
          "height": 472
        },
        "id": "Q8R6VQH_jy0K",
        "outputId": "eac2a8dc-b903-44a9-ebdd-a24c8fe3f073"
      },
      "outputs": [
        {
          "data": {
            "image/png": "[encoded data removed]",
            "text/plain": [
              "<Figure size 640x480 with 1 Axes>"
            ]
          },
          "metadata": {},
          "output_type": "display_data"
        }
      ],
      "source": [
        "# visualizing the word count distribution for the raw texts in BBCtest_data\n",
        "BBCtest_cleaned_word_count = BBCtest_data['Text'].apply(lambda x: len(str(x).split()))\n",
        "plt.hist(BBCtest_cleaned_word_count, bins = 50, edgecolor='k')\n",
        "plt.title('Distribution of Cleaned Text Word Count in BBCtest_data')\n",
        "plt.xlabel('Word Count')\n",
        "plt.ylabel('Frequency')\n",
        "plt.show()"
      ]
    },
    {
      "cell_type": "markdown",
      "metadata": {
        "id": "zH1JkhJzjy0K"
      },
      "source": [
        "##### Summary for Section 3.2:\n",
        "1. The raw news articles texts are in natural English language paragraphs that consists of uncapitalized sentences, with punctuations, numbers, and extra leading/trailing spaces, which will be removed in the next section.\n",
        "2. The raw news articles texts in BBCtrain_data have an average word count of about 385. The longest one has 3345 words, and the shortest one 90 words.  \n",
        "3. The raw news articles texts in BBCtest_data have an average word count of about 401. The longest one has 4492 words, and the shortest one 126 words.\n",
        "4. The statistical features in points 2 and 3 are visualized in histograms.\n",
        "5. The outlier texts, the very long and very short ones, do not need to be removed, because they are legit, published news articles, which should not include inconsistant or irrelavent content."
      ]
    },
    {
      "cell_type": "markdown",
      "metadata": {
        "id": "ECqc97csjy0L"
      },
      "source": [
        "##### 3.3 Basic EDA: Basic Transformations of the News Article Texts"
      ]
    },
    {
      "cell_type": "code",
      "execution_count": 16,
      "metadata": {
        "id": "Q5Pp_4KEjy0L"
      },
      "outputs": [],
      "source": [
        "# creating a new column \"Train_Text_Cleaned\" with the same values as in \"Text\" in BBCtrain_data\n",
        "# prepared for doing some nlp preprocessing later\n",
        "BBCtrain_data['Train_Text_Cleaned'] = BBCtrain_data['Text']\n",
        "\n",
        "# creating a new column \"Test_Text_Cleaned\" with the same values as in \"Text\" in BBCtest_data\n",
        "# prepared for doing some nlp preprocessing later\n",
        "BBCtest_data['Test_Text_Cleaned'] = BBCtest_data['Text']"
      ]
    },
    {
      "cell_type": "code",
      "execution_count": 17,
      "metadata": {
        "id": "FHS3mv80jy0L"
      },
      "outputs": [],
      "source": [
        "## removing punctuations\n",
        "# removing punctuations from \"Train_Text_Cleaned\" in BBCtrain_data\n",
        "BBCtrain_data['Train_Text_Cleaned'] = BBCtrain_data['Train_Text_Cleaned'].str.replace(r'[^\\w\\s]', '', regex=True)\n",
        "\n",
        "# remove punctuations from \"Test_Text_Cleaned\" in BBCtest_data\n",
        "BBCtest_data['Test_Text_Cleaned'] = BBCtest_data['Test_Text_Cleaned'].str.replace(r'[^\\w\\s]', '', regex=True)"
      ]
    },
    {
      "cell_type": "code",
      "execution_count": 18,
      "metadata": {
        "id": "h_-doYyujy0L"
      },
      "outputs": [],
      "source": [
        "## removing numbers\n",
        "# removing numbers from \"Train_Text_Cleaned\" in BBCtrain_data\n",
        "BBCtrain_data['Train_Text_Cleaned'] = BBCtrain_data['Train_Text_Cleaned'].str.replace(r'\\d+', '', regex=True)\n",
        "\n",
        "# removing numbers from \"Test_Text_Cleaned\" in BBCtest_data\n",
        "BBCtest_data['Test_Text_Cleaned'] = BBCtest_data['Test_Text_Cleaned'].str.replace(r'\\d+', '', regex=True)"
      ]
    },
    {
      "cell_type": "code",
      "execution_count": 19,
      "metadata": {
        "id": "m-7qW5Gijy0M"
      },
      "outputs": [],
      "source": [
        "## removing extra leading/trailing spaces\n",
        "# removing extra leading/trailing spaces from \"Train_Text_Cleaned\" in BBCtrain_data\n",
        "BBCtrain_data['Train_Text_Cleaned'] = BBCtrain_data['Train_Text_Cleaned'].str.replace(r'\\s+', ' ', regex=True).str.strip()\n",
        "\n",
        "\n",
        "# removing extra leading/trailing spaces from \"Test_Text_Cleaned\" in BBCtest_data\n",
        "BBCtest_data['Test_Text_Cleaned'] = BBCtest_data['Test_Text_Cleaned'].str.replace(r'\\s+', ' ', regex=True).str.strip()"
      ]
    },
    {
      "cell_type": "markdown",
      "metadata": {
        "id": "lWPctvDzjy0M"
      },
      "source": [
        "##### Summary for Section 3.3:\n",
        "1. The original news article texts are left untouched in column \"Text.\"\n",
        "2. Punctuations, numbers, and extra leading/trailing spaces are removed from the news article texts in both BBCtrain_data and BBCtest_data, and stored in new columns \"Train_Text_Cleaned\" and \"Test_TExt_Cleaned,\" in the respective datasets."
      ]
    },
    {
      "cell_type": "markdown",
      "metadata": {
        "id": "r83psil8jy0N"
      },
      "source": [
        "##### 3.4 More EDA: NLP Transformations of the News Article Texts"
      ]
    },
    {
      "cell_type": "code",
      "execution_count": 20,
      "metadata": {
        "colab": {
          "base_uri": "https://localhost:8080/"
        },
        "id": "h-m4Tmfnjy0N",
        "outputId": "72d65bf5-4f96-43eb-f023-8dd48481efa0"
      },
      "outputs": [
        {
          "name": "stdout",
          "output_type": "stream",
          "text": [
            "Requirement already satisfied: nltk in /usr/local/lib/python3.10/dist-packages (3.8.1)\n",
            "Requirement already satisfied: click in /usr/local/lib/python3.10/dist-packages (from nltk) (8.1.7)\n",
            "Requirement already satisfied: joblib in /usr/local/lib/python3.10/dist-packages (from nltk) (1.3.2)\n",
            "Requirement already satisfied: regex>=2021.8.3 in /usr/local/lib/python3.10/dist-packages (from nltk) (2023.6.3)\n",
            "Requirement already satisfied: tqdm in /usr/local/lib/python3.10/dist-packages (from nltk) (4.66.1)\n"
          ]
        }
      ],
      "source": [
        "# libraries for nlp preprocessing\n",
        "%pip install nltk\n",
        "import nltk.corpus\n",
        "from nltk.corpus import stopwords\n",
        "from nltk.tokenize import sent_tokenize\n",
        "from nltk.tokenize import word_tokenize\n",
        "from nltk.stem import WordNetLemmatizer\n",
        "from sklearn.feature_extraction.text import TfidfVectorizer"
      ]
    },
    {
      "cell_type": "code",
      "execution_count": 21,
      "metadata": {
        "colab": {
          "base_uri": "https://localhost:8080/"
        },
        "id": "5YZjvk46jy0N",
        "outputId": "1879558f-6c94-4039-c22f-8215f590b677"
      },
      "outputs": [
        {
          "name": "stderr",
          "output_type": "stream",
          "text": [
            "[nltk_data] Downloading package punkt to /root/nltk_data...\n",
            "[nltk_data]   Package punkt is already up-to-date!\n",
            "[nltk_data] Downloading package stopwords to /root/nltk_data...\n",
            "[nltk_data]   Package stopwords is already up-to-date!\n"
          ]
        },
        {
          "name": "stdout",
          "output_type": "stream",
          "text": [
            "BBCtrain_data['Train_Text_Cleaned'] without stop words: \n",
            " 0       worldcom exboss launches defence lawyers defen...\n",
            "1       german business confidence slides german busin...\n",
            "2       bbc poll indicates economic gloom citizens maj...\n",
            "3       lifestyle governs mobile choice faster better ...\n",
            "4       enron bosses payout eighteen former enron dire...\n",
            "                              ...                        \n",
            "1485    double eviction big brother model caprice holb...\n",
            "1486    dj double act revamp chart show dj duo jk joel...\n",
            "1487    weak dollar hits reuters revenues media group ...\n",
            "1488    apple ipod family expands market apple expande...\n",
            "1489    santy worm makes unwelcome visit thousands web...\n",
            "Name: Train_Text_Cleaned, Length: 1490, dtype: object \n",
            "\n",
            "BBCtest_data['Test_Text_Cleaned'] without stop words: \n",
            " 0      qpr keeper day heads preston queens park range...\n",
            "1      software watching work software monitor every ...\n",
            "2      arcy injury adds ireland woe gordon arcy ruled...\n",
            "3      india reliance family feud heats ongoing publi...\n",
            "4      boro suffer morrison injury blow middlesbrough...\n",
            "                             ...                        \n",
            "730    eu probe alitalia state aid european commissio...\n",
            "731    u play grammy awards show irish rock band u pl...\n",
            "732    sport betting rules spotlight group mps peers ...\n",
            "733    alfa romeos get gm engines fiat stop making si...\n",
            "734    citizenship event touted citizenship ceremonie...\n",
            "Name: Test_Text_Cleaned, Length: 735, dtype: object\n"
          ]
        }
      ],
      "source": [
        "## nlp preprocessing: remove stop words\n",
        "nltk.download('punkt')\n",
        "nltk.download('stopwords')\n",
        "stop_words = set(stopwords.words('english'))\n",
        "def remove_stop_words(text):\n",
        "    words = word_tokenize(text)\n",
        "    no_stop_words = [word for word in words if word.lower() not in stop_words]\n",
        "    return ' '.join(no_stop_words)\n",
        "\n",
        "# remove stop words from \"Train_Text_Cleaned\" in BBCtrain_data\n",
        "BBCtrain_data['Train_Text_Cleaned'] = BBCtrain_data['Train_Text_Cleaned'].apply(remove_stop_words)\n",
        "print(\"BBCtrain_data['Train_Text_Cleaned'] without stop words:\", \"\\n\", BBCtrain_data['Train_Text_Cleaned'], \"\\n\")\n",
        "\n",
        "# remove stop words from \"Test_Text_Cleaned\" in BBCtest_data\n",
        "BBCtest_data['Test_Text_Cleaned'] = BBCtest_data['Test_Text_Cleaned'].apply(remove_stop_words)\n",
        "print(\"BBCtest_data['Test_Text_Cleaned'] without stop words:\", \"\\n\", BBCtest_data['Test_Text_Cleaned'])"
      ]
    },
    {
      "cell_type": "code",
      "execution_count": 22,
      "metadata": {
        "colab": {
          "base_uri": "https://localhost:8080/"
        },
        "id": "hu1Q1KUpjy0O",
        "outputId": "b5a2a14d-38b9-41e3-ab32-35e335b43ed9"
      },
      "outputs": [
        {
          "name": "stderr",
          "output_type": "stream",
          "text": [
            "[nltk_data] Downloading package punkt to /root/nltk_data...\n",
            "[nltk_data]   Package punkt is already up-to-date!\n",
            "[nltk_data] Downloading package wordnet to /root/nltk_data...\n",
            "[nltk_data]   Package wordnet is already up-to-date!\n"
          ]
        }
      ],
      "source": [
        "## nlp preprocessing: tokenization and lemmatization\n",
        "nltk.download('punkt')\n",
        "nltk.download('wordnet')\n",
        "\n",
        "lemmatizer = WordNetLemmatizer()\n",
        "def tokenization_then_lemmatization(text):\n",
        "    tokenized_words = word_tokenize(text)\n",
        "    lemmatized_words = [lemmatizer.lemmatize(tokenized_word) for tokenized_word in tokenized_words]\n",
        "    return ' '.join(lemmatized_words)\n",
        "\n",
        "# lemmatization of word tokens in \"Train_Text_Cleaned\" in BBCtrain_data\n",
        "BBCtrain_data['Train_Text_Cleaned'] = BBCtrain_data['Train_Text_Cleaned'].apply(tokenization_then_lemmatization)\n",
        "\n",
        "\n",
        "# lemmatization of word tokens in \"Test_Text_Cleaned\" in BBCtest_data\n",
        "BBCtest_data['Test_Text_Cleaned'] = BBCtest_data['Test_Text_Cleaned'].apply(tokenization_then_lemmatization)"
      ]
    },
    {
      "cell_type": "code",
      "execution_count": 23,
      "metadata": {
        "colab": {
          "base_uri": "https://localhost:8080/"
        },
        "id": "a_rnxGvnjy0P",
        "outputId": "2e117422-1dab-4b4d-b9cb-2344961e59b6"
      },
      "outputs": [
        {
          "name": "stdout",
          "output_type": "stream",
          "text": [
            "big war game battle arrival new title popular medal honor call duty franchise leaf fan wartime battle title spoilt choice acclaimed pc title call duty updated console format building many original element part longrunning medal honor series added pacific assault pc catalogue adapting console game rising sun call duty finest hour cast succession allied soldier fighting world war battlefront including russia north africa traditional firstpersonviewed game let control one character midst unit cohort constantly bark order nearidentical note medal honor pacific assault make feel part tightknit team plum middle allout action arena war pacific battle including guadalcanal pearl harbour play one character throughout raw rather talkative u soldier game rely carefully stagemanaged structure keep thing ticking along work brilliant device make feel part story tedious winning moment early scene pacific assault come attack famous u base hawaii first ushered gunboat attacking incoming wave japanese plane made descend sinking battleship rescue crewman seizing antiaircraft gun one finest setpieces ever seen video game notion shuffling player along studiously predetermined path forcibly witnessing series preset moment action perilous business make whole affair feel stilted rather organic genius something like half life skilfully disguise linear plotting various mean misdirection pair game really accomplish concerned imparting fullon atmospheric experience call duty come suitably bombastic score overblown presentation finest hour similar determination framing everything moody wartime music archive footage lot reflective voiceovers letting play number different role interesting ploy add new dimension call duty endeavour even sacrifice narrative flow somewhat game drawback could said format taste differ wartime shooter often seem work better pc mouse control big reason along sharper graphic topend computer muster apparent notion pc game allowed get away bit subtlety call duty pc detailed plotwise graphically new adaptation feel little rough ready targeting p controller proved tricky helped unconvincing collisiondetection shoot enemy repeatedly zero question aim yet bullet refuse hit checkpoint far get shot happens regularly set harshly far back find covering vast tract scorched earth game want challenge many player like dynamic battlefield simulator experience even refined pc parent sense part action thoroughly impressive game feature military colleague disturbingly bad shot prone odd behaviour pacific assault particular command comment irritatingly meaningless teamwork element title like superficial designed add atmosphere camaraderie rather affect gameplay mechanic two game pacific assault get thing right including little point like autosaving intelligently tidier presentation engages well also look wonderful making lush tropical setting reminiscent glorious far cry although ramp setting highspec machine get finest hour mean bad pc original dazzling version sometimes feel underwhelming looking wartime game plenty atmosphere hearty abundance enemy shoot contented also niggling puzzlement break little ground rather competent\n"
          ]
        }
      ],
      "source": [
        "# inspecting the cleaned text from a random row in BBCtrain_data\n",
        "cleaned_train_rand_row = BBCtrain_data.sample(n=1, random_state=20231228)\n",
        "print(cleaned_train_rand_row['Train_Text_Cleaned'].values[0])"
      ]
    },
    {
      "cell_type": "code",
      "execution_count": 24,
      "metadata": {
        "colab": {
          "base_uri": "https://localhost:8080/"
        },
        "id": "zD1XYquNjy0Q",
        "outputId": "6a1c6ac7-afda-424e-cdde-d7663dc217cc"
      },
      "outputs": [
        {
          "name": "stdout",
          "output_type": "stream",
          "text": [
            "howl help boost japan cinema japan box office received boost last year ticket sale worth bn yen bn surge led animated movie howl moving castle took bn yen become biggest film japan expected match bn yen record hayao miyazaki previous film spirited away japan motion picture producer figure showed million cinema admission made japan last samurai starring tom cruise biggest foreign movie hit japan last year taking bn yen followed harry potter prisoner azkaban finding nemo lord ring return king second highestgrossing japanese film romantic drama cry love centre world followed pocket monster advanced generation japanese film accounted japan box office total last year foreign film taking remaining represented gain proportion japanese film compared number japanese film released rose previous year sale movie dvd video amounted bn yen bn year\n"
          ]
        }
      ],
      "source": [
        "# inspecting the cleaned text from a random row in BBCtest_data\n",
        "cleaned_test_rand_row = BBCtest_data.sample(n=1, random_state=20231228)\n",
        "print(cleaned_test_rand_row['Test_Text_Cleaned'].values[0])"
      ]
    },
    {
      "cell_type": "code",
      "execution_count": 25,
      "metadata": {
        "colab": {
          "base_uri": "https://localhost:8080/"
        },
        "id": "PTnvooEqjy0R",
        "outputId": "8304e1c3-3eab-4e71-c06f-b58df67501f3"
      },
      "outputs": [
        {
          "name": "stdout",
          "output_type": "stream",
          "text": [
            "text average word count in BBCtrain_data after nlp preprocessing: 212.85704697986577\n",
            "text max word count in BBCtrain_data after nlp preprocessing: 1632\n",
            "text min word count in BBCtrain_data after nlp preprocessing: 47 /n\n",
            "text average word count in BBCtest_data after nlp preprocessing: 220.28843537414966\n",
            "text max word count in BBCtest_data after nlp preprocessing: 2187\n",
            "text min word count in BBCtest_data after nlp preprocessing: 69\n"
          ]
        }
      ],
      "source": [
        "# computing average, max, min word count for the texts in BBCtrain_data after nlp preprocessing\n",
        "BBCtrain_raw_avg = BBCtrain_data['Train_Text_Cleaned'].apply(lambda x: len(str(x).split())).mean()\n",
        "BBCtrain_raw_max = BBCtrain_data['Train_Text_Cleaned'].apply(lambda x: len(str(x).split())).max()\n",
        "BBCtrain_raw_min = BBCtrain_data['Train_Text_Cleaned'].apply(lambda x: len(str(x).split())).min()\n",
        "print(\"text average word count in BBCtrain_data after nlp preprocessing:\", BBCtrain_raw_avg)\n",
        "print(\"text max word count in BBCtrain_data after nlp preprocessing:\", BBCtrain_raw_max)\n",
        "print(\"text min word count in BBCtrain_data after nlp preprocessing:\", BBCtrain_raw_min, \"/n\")\n",
        "\n",
        "# computing average, max, min word count for the texts in BBCtest_data after nlp preprocessing\n",
        "BBCtest_raw_avg = BBCtest_data['Test_Text_Cleaned'].apply(lambda x: len(str(x).split())).mean()\n",
        "BBCtest_raw_max = BBCtest_data['Test_Text_Cleaned'].apply(lambda x: len(str(x).split())).max()\n",
        "BBCtest_raw_min = BBCtest_data['Test_Text_Cleaned'].apply(lambda x: len(str(x).split())).min()\n",
        "print(\"text average word count in BBCtest_data after nlp preprocessing:\", BBCtest_raw_avg)\n",
        "print(\"text max word count in BBCtest_data after nlp preprocessing:\", BBCtest_raw_max)\n",
        "print(\"text min word count in BBCtest_data after nlp preprocessing:\", BBCtest_raw_min)"
      ]
    },
    {
      "cell_type": "code",
      "execution_count": 26,
      "metadata": {
        "colab": {
          "base_uri": "https://localhost:8080/",
          "height": 472
        },
        "id": "xusJJfJdjy0R",
        "outputId": "b10c04a8-cd85-4f62-d2fa-fe030b861411"
      },
      "outputs": [
        {
          "data": {
            "image/png": "[encoded data removed]",
            "text/plain": [
              "<Figure size 640x480 with 1 Axes>"
            ]
          },
          "metadata": {},
          "output_type": "display_data"
        }
      ],
      "source": [
        "# visualizing the word count distribution for the cleaned text in BBCtrain_data\n",
        "BBCtrain_cleaned_word_count = BBCtrain_data['Train_Text_Cleaned'].apply(lambda x: len(str(x).split()))\n",
        "plt.hist(BBCtrain_cleaned_word_count, bins = 50, edgecolor='k')\n",
        "plt.title('Distribution of Cleaned Text Word Count in BBCtrain_data')\n",
        "plt.xlabel('Word Count')\n",
        "plt.ylabel('Frequency')\n",
        "plt.show()"
      ]
    },
    {
      "cell_type": "code",
      "execution_count": 27,
      "metadata": {
        "colab": {
          "base_uri": "https://localhost:8080/",
          "height": 472
        },
        "id": "D8dOjt0qjy0S",
        "outputId": "8c3f13a0-5208-4d1d-9120-c867c4610262"
      },
      "outputs": [
        {
          "data": {
            "image/png": "[encoded data removed]",
            "text/plain": [
              "<Figure size 640x480 with 1 Axes>"
            ]
          },
          "metadata": {},
          "output_type": "display_data"
        }
      ],
      "source": [
        "# visualizing the word count distribution for the cleaned text in BBCtest_data\n",
        "BBCtest_cleaned_word_count = BBCtest_data['Test_Text_Cleaned'].apply(lambda x: len(str(x).split()))\n",
        "plt.hist(BBCtest_cleaned_word_count, bins = 50, edgecolor='k')\n",
        "plt.title('Distribution of Cleaned Text Word Count in BBCtest_data')\n",
        "plt.xlabel('Word Count')\n",
        "plt.ylabel('Frequency')\n",
        "plt.show()"
      ]
    },
    {
      "cell_type": "markdown",
      "metadata": {
        "id": "3tbo-aTxjy0k"
      },
      "source": [
        "##### Summary for Section 3.4:\n",
        "In order to facilitate modeling in later sections, several nlp preprocessing steps are done for the news article texts in both BBCtrain_data and BBCtest_data:\n",
        "1. Stop words are removed.\n",
        "2. Paragraphs are tokenized into words.\n",
        "3. Words are lemmatized.\n",
        "\n",
        "After these nlp preprocessing steps, I inspected the cleaned texts and found that their lengths have been largely reduced to an average word count of about 213, a max word count of 1632, and a min word count of 47 in BBCtrain_data, and an average word count of about 220, a max word count of 2187, and a min word count of 69 in BBCtest_data. The concentrated texts will improve model performance and the accuracy of category prediction."
      ]
    },
    {
      "cell_type": "markdown",
      "metadata": {
        "id": "fY5zjpUFjy0k"
      },
      "source": [
        "### 4. Data Splitting\n",
        "The BBCtrain_data will be splitted into a training and a validation dataset with a traditional  80-20 split as X_train, y_train, and X_val, y_val. The training set will be used for model training in sections 5 and 6; while, the validation set will be used for model performance evaluation in section 7. \n",
        "\n",
        "Finally, after the models are optimized, the unlabelled dataset X_test will be used for predicting the categories of the unseen news articles in BBCtest_data."
      ]
    },
    {
      "cell_type": "code",
      "execution_count": 28,
      "metadata": {
        "id": "twq3Q84Rjy0l"
      },
      "outputs": [],
      "source": [
        "from sklearn.model_selection import train_test_split\n",
        "\n",
        "# splitting BBCtrain_data into a training and a validation set (with a 80-20 split)\n",
        "X_train, X_val, y_train, y_val = train_test_split(\n",
        "    BBCtrain_data['Train_Text_Cleaned'],\n",
        "    BBCtrain_data['Category'],\n",
        "    test_size=0.2,\n",
        "    random_state=20231228\n",
        ")\n",
        "\n",
        "X_test = BBCtest_data['Test_Text_Cleaned']\n",
        "#TFIDF_LR_y_pred to be predicted using the TFIDF_LR model\n",
        "#TFIDF_ANN_y_pred to be predicted using the TFIDF_ANN model"
      ]
    },
    {
      "cell_type": "markdown",
      "metadata": {
        "id": "VqpsBqu6jy0l"
      },
      "source": [
        "#### 5. None-Deep Learning Hybrid Model: TFIDF_LR"
      ]
    },
    {
      "cell_type": "code",
      "execution_count": 29,
      "metadata": {
        "colab": {
          "base_uri": "https://localhost:8080/"
        },
        "id": "LN1Udp_tjy0m",
        "outputId": "85c34dbd-3745-49f8-b703-0e6e2af17b04"
      },
      "outputs": [
        {
          "name": "stdout",
          "output_type": "stream",
          "text": [
            "Fitting 5 folds for each of 16 candidates, totalling 80 fits\n"
          ]
        },
        {
          "name": "stderr",
          "output_type": "stream",
          "text": [
            "/usr/local/lib/python3.10/dist-packages/sklearn/model_selection/_validation.py:378: FitFailedWarning: \n",
            "40 fits failed out of a total of 80.\n",
            "The score on these train-test partitions for these parameters will be set to nan.\n",
            "If these failures are not expected, you can try to debug them by setting error_score='raise'.\n",
            "\n",
            "Below are more details about the failures:\n",
            "--------------------------------------------------------------------------------\n",
            "40 fits failed with the following error:\n",
            "Traceback (most recent call last):\n",
            "  File \"/usr/local/lib/python3.10/dist-packages/sklearn/model_selection/_validation.py\", line 686, in _fit_and_score\n",
            "    estimator.fit(X_train, y_train, **fit_params)\n",
            "  File \"/usr/local/lib/python3.10/dist-packages/sklearn/pipeline.py\", line 405, in fit\n",
            "    self._final_estimator.fit(Xt, y, **fit_params_last_step)\n",
            "  File \"/usr/local/lib/python3.10/dist-packages/sklearn/linear_model/_logistic.py\", line 1162, in fit\n",
            "    solver = _check_solver(self.solver, self.penalty, self.dual)\n",
            "  File \"/usr/local/lib/python3.10/dist-packages/sklearn/linear_model/_logistic.py\", line 54, in _check_solver\n",
            "    raise ValueError(\n",
            "ValueError: Solver lbfgs supports only 'l2' or 'none' penalties, got l1 penalty.\n",
            "\n",
            "  warnings.warn(some_fits_failed_message, FitFailedWarning)\n",
            "/usr/local/lib/python3.10/dist-packages/sklearn/model_selection/_search.py:952: UserWarning: One or more of the test scores are non-finite: [       nan        nan        nan        nan 0.91864562 0.92115959\n",
            " 0.90270033 0.90437748        nan        nan        nan        nan\n",
            " 0.96813755 0.96897437 0.96897788 0.97064801]\n",
            "  warnings.warn(\n"
          ]
        },
        {
          "name": "stdout",
          "output_type": "stream",
          "text": [
            "TFIDF_LR Best parameters:  {'clf__C': 1, 'clf__penalty': 'l2', 'tfidf__max_features': 5000, 'tfidf__ngram_range': (1, 2)}\n"
          ]
        }
      ],
      "source": [
        "## training the model\n",
        "from sklearn.feature_extraction.text import TfidfVectorizer\n",
        "from sklearn.linear_model import LogisticRegression\n",
        "from sklearn.pipeline import Pipeline\n",
        "from sklearn.model_selection import GridSearchCV\n",
        "\n",
        "# defining the TFIDF_LR pipeline\n",
        "TFIDF_LR_pipeline = Pipeline([\n",
        "    ('tfidf', TfidfVectorizer()),\n",
        "    ('clf', LogisticRegression(max_iter=200))\n",
        "])\n",
        "\n",
        "# defining the TFIDF_LR hyperparameters and their possible values\n",
        "TFIDF_LR_param_grid = {\n",
        "    'tfidf__max_features': [3000, 5000],\n",
        "    'tfidf__ngram_range': [(1, 1), (1, 2)],\n",
        "    'clf__C': [0.1, 1],\n",
        "    'clf__penalty': ['l1', 'l2']\n",
        "}\n",
        "\n",
        "# doing grid search for TFIDF_LR with 5-fold cross-validation\n",
        "TFIDF_LR_grid_search = GridSearchCV(TFIDF_LR_pipeline, TFIDF_LR_param_grid, cv=5, verbose=1, n_jobs=-1)\n",
        "TFIDF_LR_grid_search.fit(X_train, y_train)\n",
        "print(\"TFIDF_LR Best parameters: \", TFIDF_LR_grid_search.best_params_)"
      ]
    },
    {
      "cell_type": "code",
      "execution_count": 30,
      "metadata": {
        "colab": {
          "base_uri": "https://localhost:8080/"
        },
        "id": "NUsfvd9sjy0n",
        "outputId": "3715deb4-5e11-4928-b50f-b2fbee089094"
      },
      "outputs": [
        {
          "name": "stdout",
          "output_type": "stream",
          "text": [
            "best TFIDF vectorizer: TfidfVectorizer(max_features=5000, ngram_range=(1, 2)) \n",
            "\n",
            "best LR model: LogisticRegression(C=1, max_iter=200)\n"
          ]
        }
      ],
      "source": [
        "# best TFIDF vectorizer\n",
        "TFIDF_vectorizer = TFIDF_LR_grid_search.best_estimator_.named_steps['tfidf']\n",
        "print(\"best TFIDF vectorizer:\", TFIDF_vectorizer, \"\\n\")\n",
        "\n",
        "# best LR classifier\n",
        "LR_model = TFIDF_LR_grid_search.best_estimator_.named_steps['clf']\n",
        "print(\"best LR model:\", LR_model)"
      ]
    },
    {
      "cell_type": "markdown",
      "metadata": {
        "id": "zNbeRa--jy0o"
      },
      "source": [
        "##### Summary for the TFIDF_LR Model:\n",
        "1. Best TFIDF vectorizer: <br>\n",
        "TfidfVectorizer(max_features=5000, ngram_range=(1, 2))\n",
        "\n",
        "2. Best LR model: <br>\n",
        "LogisticRegression(C=1, max_iter=200)"
      ]
    },
    {
      "cell_type": "markdown",
      "metadata": {
        "id": "IcPG3fd_jy0p"
      },
      "source": [
        "#### 6. Deep Learning Hybrid Model: TFIDF_ANN"
      ]
    },
    {
      "cell_type": "code",
      "execution_count": 31,
      "metadata": {
        "colab": {
          "base_uri": "https://localhost:8080/"
        },
        "id": "K_SCIRi9j7CZ",
        "outputId": "99c2076d-3b7f-4ace-ba75-ef28b4570354"
      },
      "outputs": [
        {
          "name": "stdout",
          "output_type": "stream",
          "text": [
            "Requirement already satisfied: tensorflow in /usr/local/lib/python3.10/dist-packages (2.15.0)\n",
            "Requirement already satisfied: keras_tuner in /usr/local/lib/python3.10/dist-packages (1.4.6)\n",
            "Requirement already satisfied: absl-py>=1.0.0 in /usr/local/lib/python3.10/dist-packages (from tensorflow) (1.4.0)\n",
            "Requirement already satisfied: astunparse>=1.6.0 in /usr/local/lib/python3.10/dist-packages (from tensorflow) (1.6.3)\n",
            "Requirement already satisfied: flatbuffers>=23.5.26 in /usr/local/lib/python3.10/dist-packages (from tensorflow) (23.5.26)\n",
            "Requirement already satisfied: gast!=0.5.0,!=0.5.1,!=0.5.2,>=0.2.1 in /usr/local/lib/python3.10/dist-packages (from tensorflow) (0.5.4)\n",
            "Requirement already satisfied: google-pasta>=0.1.1 in /usr/local/lib/python3.10/dist-packages (from tensorflow) (0.2.0)\n",
            "Requirement already satisfied: h5py>=2.9.0 in /usr/local/lib/python3.10/dist-packages (from tensorflow) (3.9.0)\n",
            "Requirement already satisfied: libclang>=13.0.0 in /usr/local/lib/python3.10/dist-packages (from tensorflow) (16.0.6)\n",
            "Requirement already satisfied: ml-dtypes~=0.2.0 in /usr/local/lib/python3.10/dist-packages (from tensorflow) (0.2.0)\n",
            "Requirement already satisfied: numpy<2.0.0,>=1.23.5 in /usr/local/lib/python3.10/dist-packages (from tensorflow) (1.23.5)\n",
            "Requirement already satisfied: opt-einsum>=2.3.2 in /usr/local/lib/python3.10/dist-packages (from tensorflow) (3.3.0)\n",
            "Requirement already satisfied: packaging in /usr/local/lib/python3.10/dist-packages (from tensorflow) (23.2)\n",
            "Requirement already satisfied: protobuf!=4.21.0,!=4.21.1,!=4.21.2,!=4.21.3,!=4.21.4,!=4.21.5,<5.0.0dev,>=3.20.3 in /usr/local/lib/python3.10/dist-packages (from tensorflow) (3.20.3)\n",
            "Requirement already satisfied: setuptools in /usr/local/lib/python3.10/dist-packages (from tensorflow) (67.7.2)\n",
            "Requirement already satisfied: six>=1.12.0 in /usr/local/lib/python3.10/dist-packages (from tensorflow) (1.16.0)\n",
            "Requirement already satisfied: termcolor>=1.1.0 in /usr/local/lib/python3.10/dist-packages (from tensorflow) (2.4.0)\n",
            "Requirement already satisfied: typing-extensions>=3.6.6 in /usr/local/lib/python3.10/dist-packages (from tensorflow) (4.5.0)\n",
            "Requirement already satisfied: wrapt<1.15,>=1.11.0 in /usr/local/lib/python3.10/dist-packages (from tensorflow) (1.14.1)\n",
            "Requirement already satisfied: tensorflow-io-gcs-filesystem>=0.23.1 in /usr/local/lib/python3.10/dist-packages (from tensorflow) (0.34.0)\n",
            "Requirement already satisfied: grpcio<2.0,>=1.24.3 in /usr/local/lib/python3.10/dist-packages (from tensorflow) (1.60.0)\n",
            "Requirement already satisfied: tensorboard<2.16,>=2.15 in /usr/local/lib/python3.10/dist-packages (from tensorflow) (2.15.1)\n",
            "Requirement already satisfied: tensorflow-estimator<2.16,>=2.15.0 in /usr/local/lib/python3.10/dist-packages (from tensorflow) (2.15.0)\n",
            "Requirement already satisfied: keras<2.16,>=2.15.0 in /usr/local/lib/python3.10/dist-packages (from tensorflow) (2.15.0)\n",
            "Requirement already satisfied: requests in /usr/local/lib/python3.10/dist-packages (from keras_tuner) (2.31.0)\n",
            "Requirement already satisfied: kt-legacy in /usr/local/lib/python3.10/dist-packages (from keras_tuner) (1.0.5)\n",
            "Requirement already satisfied: wheel<1.0,>=0.23.0 in /usr/local/lib/python3.10/dist-packages (from astunparse>=1.6.0->tensorflow) (0.42.0)\n",
            "Requirement already satisfied: google-auth<3,>=1.6.3 in /usr/local/lib/python3.10/dist-packages (from tensorboard<2.16,>=2.15->tensorflow) (2.17.3)\n",
            "Requirement already satisfied: google-auth-oauthlib<2,>=0.5 in /usr/local/lib/python3.10/dist-packages (from tensorboard<2.16,>=2.15->tensorflow) (1.2.0)\n",
            "Requirement already satisfied: markdown>=2.6.8 in /usr/local/lib/python3.10/dist-packages (from tensorboard<2.16,>=2.15->tensorflow) (3.5.1)\n",
            "Requirement already satisfied: tensorboard-data-server<0.8.0,>=0.7.0 in /usr/local/lib/python3.10/dist-packages (from tensorboard<2.16,>=2.15->tensorflow) (0.7.2)\n",
            "Requirement already satisfied: werkzeug>=1.0.1 in /usr/local/lib/python3.10/dist-packages (from tensorboard<2.16,>=2.15->tensorflow) (3.0.1)\n",
            "Requirement already satisfied: charset-normalizer<4,>=2 in /usr/local/lib/python3.10/dist-packages (from requests->keras_tuner) (3.3.2)\n",
            "Requirement already satisfied: idna<4,>=2.5 in /usr/local/lib/python3.10/dist-packages (from requests->keras_tuner) (3.6)\n",
            "Requirement already satisfied: urllib3<3,>=1.21.1 in /usr/local/lib/python3.10/dist-packages (from requests->keras_tuner) (2.0.7)\n",
            "Requirement already satisfied: certifi>=2017.4.17 in /usr/local/lib/python3.10/dist-packages (from requests->keras_tuner) (2023.11.17)\n",
            "Requirement already satisfied: cachetools<6.0,>=2.0.0 in /usr/local/lib/python3.10/dist-packages (from google-auth<3,>=1.6.3->tensorboard<2.16,>=2.15->tensorflow) (5.3.2)\n",
            "Requirement already satisfied: pyasn1-modules>=0.2.1 in /usr/local/lib/python3.10/dist-packages (from google-auth<3,>=1.6.3->tensorboard<2.16,>=2.15->tensorflow) (0.3.0)\n",
            "Requirement already satisfied: rsa<5,>=3.1.4 in /usr/local/lib/python3.10/dist-packages (from google-auth<3,>=1.6.3->tensorboard<2.16,>=2.15->tensorflow) (4.9)\n",
            "Requirement already satisfied: requests-oauthlib>=0.7.0 in /usr/local/lib/python3.10/dist-packages (from google-auth-oauthlib<2,>=0.5->tensorboard<2.16,>=2.15->tensorflow) (1.3.1)\n",
            "Requirement already satisfied: MarkupSafe>=2.1.1 in /usr/local/lib/python3.10/dist-packages (from werkzeug>=1.0.1->tensorboard<2.16,>=2.15->tensorflow) (2.1.3)\n",
            "Requirement already satisfied: pyasn1<0.6.0,>=0.4.6 in /usr/local/lib/python3.10/dist-packages (from pyasn1-modules>=0.2.1->google-auth<3,>=1.6.3->tensorboard<2.16,>=2.15->tensorflow) (0.5.1)\n",
            "Requirement already satisfied: oauthlib>=3.0.0 in /usr/local/lib/python3.10/dist-packages (from requests-oauthlib>=0.7.0->google-auth-oauthlib<2,>=0.5->tensorboard<2.16,>=2.15->tensorflow) (3.2.2)\n"
          ]
        }
      ],
      "source": [
        "!pip install tensorflow keras_tuner"
      ]
    },
    {
      "cell_type": "code",
      "execution_count": 32,
      "metadata": {
        "id": "g4zCqnXslAOH"
      },
      "outputs": [],
      "source": [
        "import tensorflow as tf\n",
        "from tensorflow.keras.models import Sequential\n",
        "from tensorflow.keras.layers import Dense, Dropout\n",
        "from tensorflow.keras.optimizers import Adam\n",
        "import keras_tuner as kt\n",
        "import numpy as np"
      ]
    },
    {
      "cell_type": "code",
      "execution_count": 33,
      "metadata": {
        "colab": {
          "base_uri": "https://localhost:8080/"
        },
        "id": "ZY4VJy5_n8QU",
        "outputId": "27136032-152b-4542-f65b-cb4ce862127d"
      },
      "outputs": [
        {
          "name": "stdout",
          "output_type": "stream",
          "text": [
            "best TFIDF vectorizer: TfidfVectorizer(max_features=5000, ngram_range=(1, 2)) \n",
            "\n"
          ]
        }
      ],
      "source": [
        "# best TFIDF vectorizer derived from the TFIDF_LR model\n",
        "# cannot tune TFIDF alone using GridsearchCV\n",
        "TFIDF_vectorizer = TFIDF_LR_grid_search.best_estimator_.named_steps['tfidf']\n",
        "print(\"best TFIDF vectorizer:\", TFIDF_vectorizer, \"\\n\")"
      ]
    },
    {
      "cell_type": "code",
      "execution_count": 34,
      "metadata": {
        "id": "XW298jDqmT7a"
      },
      "outputs": [],
      "source": [
        "# transforming the training and validation data with the best TF-IDF vectorizer\n",
        "X_train_tfidf = TFIDF_vectorizer.transform(X_train).toarray()\n",
        "X_val_tfidf = TFIDF_vectorizer.transform(X_val).toarray()"
      ]
    },
    {
      "cell_type": "code",
      "execution_count": 35,
      "metadata": {
        "id": "rRngvKu8t1qm"
      },
      "outputs": [],
      "source": [
        "# transforming the lables for the training and validation data from strings to integers\n",
        "from sklearn.preprocessing import LabelEncoder\n",
        "label_encoder = LabelEncoder()\n",
        "y_train_encoded = label_encoder.fit_transform(y_train)\n",
        "y_val_encoded = label_encoder.transform(y_val)"
      ]
    },
    {
      "cell_type": "code",
      "execution_count": 36,
      "metadata": {
        "colab": {
          "base_uri": "https://localhost:8080/"
        },
        "id": "hENNCp5ljy0r",
        "outputId": "c71067e2-4a9d-4fd0-e14a-619ed5de711a"
      },
      "outputs": [
        {
          "name": "stdout",
          "output_type": "stream",
          "text": [
            "Reloading Tuner from keras_tuner_dir/tfidf_ann_tuning/tuner0.json\n"
          ]
        }
      ],
      "source": [
        "# tuning an ANN with Keras Tuner\n",
        "def build_model(hp):\n",
        "    model = Sequential()\n",
        "    ## input dense layer\n",
        "    model.add(Dense(units=hp.Int('units', min_value=32, max_value=512, step=32),\n",
        "                    activation='relu',\n",
        "                    input_dim=X_train_tfidf.shape[1]))\n",
        "    # activation function 'relu' chosen for handling the non-linear, pattern-complex text data\n",
        "\n",
        "    ## dropout layer\n",
        "    model.add(Dropout(rate=hp.Float('dropout', min_value=0, max_value=0.5, step=0.1)))\n",
        "\n",
        "    ## output dense layer\n",
        "    model.add(Dense(len(np.unique(y_train_encoded)), activation='softmax'))  \n",
        "    # units = the number of unique classes in y_train_encoded\n",
        "    # activation function 'softmax' chosen for multi-class classification \n",
        "    \n",
        "    ## optimizer\n",
        "    model.compile(optimizer=Adam(learning_rate=hp.Float('learning_rate', min_value=1e-4, max_value=1e-2, sampling='LOG')),\n",
        "                  loss='sparse_categorical_crossentropy',\n",
        "                  metrics=['accuracy'])\n",
        "    # optimizer Adam chosen for its adaptive learning rate during model training\n",
        "\n",
        "    return model\n",
        "\n",
        "tuner = kt.RandomSearch(\n",
        "    build_model,\n",
        "    objective='val_accuracy',\n",
        "    max_trials=5,\n",
        "    executions_per_trial=3,\n",
        "    directory='keras_tuner_dir',\n",
        "    project_name='tfidf_ann_tuning'\n",
        ")\n",
        "\n",
        "tuner.search(X_train_tfidf, y_train_encoded, epochs=10, validation_data=(X_val_tfidf, y_val_encoded))"
      ]
    },
    {
      "cell_type": "code",
      "execution_count": 38,
      "metadata": {
        "colab": {
          "base_uri": "https://localhost:8080/"
        },
        "id": "ZeoJZ8VnmdCY",
        "outputId": "817e09fc-3dea-4c0a-b41d-da756e56b13b"
      },
      "outputs": [
        {
          "name": "stdout",
          "output_type": "stream",
          "text": [
            "\n",
            "1. The optimal number of units in the first densely-connected\n",
            "layer is 448.\n",
            "2. The optimal dropout rate in the dropout layer is 0.30000000000000004.\n",
            "3. The optimal learning rate for the optimizer is 0.0004101920412600361.\n",
            "\n",
            "The best ANN model is <keras.src.engine.sequential.Sequential object at 0x7fb433d26c20>.\n"
          ]
        },
        {
          "name": "stderr",
          "output_type": "stream",
          "text": [
            "WARNING:tensorflow:Detecting that an object or model or tf.train.Checkpoint is being deleted with unrestored values. See the following logs for the specific values in question. To silence these warnings, use `status.expect_partial()`. See https://www.tensorflow.org/api_docs/python/tf/train/Checkpoint#restorefor details about the status object returned by the restore function.\n",
            "WARNING:tensorflow:Value in checkpoint could not be found in the restored object: (root).optimizer._variables.1\n",
            "WARNING:tensorflow:Value in checkpoint could not be found in the restored object: (root).optimizer._variables.2\n",
            "WARNING:tensorflow:Value in checkpoint could not be found in the restored object: (root).optimizer._variables.3\n",
            "WARNING:tensorflow:Value in checkpoint could not be found in the restored object: (root).optimizer._variables.4\n",
            "WARNING:tensorflow:Value in checkpoint could not be found in the restored object: (root).optimizer._variables.5\n",
            "WARNING:tensorflow:Value in checkpoint could not be found in the restored object: (root).optimizer._variables.6\n",
            "WARNING:tensorflow:Value in checkpoint could not be found in the restored object: (root).optimizer._variables.7\n",
            "WARNING:tensorflow:Value in checkpoint could not be found in the restored object: (root).optimizer._variables.8\n"
          ]
        }
      ],
      "source": [
        "# getting the optimal hyperparameters for the ANN model\n",
        "best_ANN_hps = tuner.get_best_hyperparameters(num_trials=1)[0]\n",
        "print(f\"\"\"\n",
        "1. The optimal number of units in the first densely-connected\n",
        "layer is {best_ANN_hps.get('units')}.\n",
        "2. The optimal dropout rate in the dropout layer is {best_ANN_hps.get('dropout')}.\n",
        "3. The optimal learning rate for the optimizer is {best_ANN_hps.get('learning_rate')}.\n",
        "\"\"\")\n",
        "\n",
        "ANN_model = tuner.get_best_models(num_models=1)[0]\n",
        "print(f\"The best ANN model is {ANN_model}.\")"
      ]
    },
    {
      "cell_type": "markdown",
      "metadata": {
        "id": "kDlzKWQSjy0r"
      },
      "source": [
        "##### Summary for the TFIDF_ANN Model:\n",
        "1. Best TFIDF vectorizer: <br>\n",
        "TfidfVectorizer(max_features=5000, ngram_range=(1, 2))\n",
        "\n",
        "2. Best ANN model: <br>\n",
        "model = Sequential() <br>\n",
        "model.add(Dense(units=32, activation='relu', input_dim=X_train_tfidf.shape[1])) <br>\n",
        "model.add(Dropout(rate=0.1)) <br>\n",
        "model.add(Dense(len(np.unique(y_train_encoded)), activation='softmax'))  <br>\n",
        "model.compile(optimizer=Adam(learning_rate=0.0022559447282506848)), loss='sparse_categorical_crossentropy', metrics=['accuracy'])\n",
        "\n",
        "3. Best val_accuracy: 0.9798657894134521"
      ]
    },
    {
      "cell_type": "markdown",
      "metadata": {
        "id": "uSoFoLe8jy0s"
      },
      "source": [
        "#### 7. Model Evaluation and Comparison\n",
        "The models will be evaluated on the validation set X_train, y_train with quantitative metrics, namely precision, recall, F1-score (from the classification report), overall accuracy, confusion matrix, and each category's missclassification distribution."
      ]
    },
    {
      "cell_type": "code",
      "execution_count": 39,
      "metadata": {
        "id": "CNjZFlNUxO_e"
      },
      "outputs": [],
      "source": [
        "from sklearn.metrics import classification_report, confusion_matrix, accuracy_score, precision_score, roc_curve, roc_auc_score\n",
        "import numpy as np\n",
        "import matplotlib.pyplot as plt"
      ]
    },
    {
      "cell_type": "markdown",
      "metadata": {
        "id": "Ahbha6BRjy0s"
      },
      "source": [
        "##### 7.1 Evaluation of the None-Deep Learning Hybrid Model: TFIDF_LR"
      ]
    },
    {
      "cell_type": "code",
      "execution_count": 40,
      "metadata": {
        "colab": {
          "base_uri": "https://localhost:8080/"
        },
        "id": "QoeCYRj7jy0t",
        "outputId": "af255c63-e3ba-4fa8-b791-4523e39b41d2"
      },
      "outputs": [
        {
          "name": "stdout",
          "output_type": "stream",
          "text": [
            "Classification Report - TFIDF_LR:\n",
            "               precision    recall  f1-score   support\n",
            "\n",
            "     business       0.96      0.99      0.97        68\n",
            "entertainment       1.00      0.96      0.98        49\n",
            "     politics       0.98      0.94      0.96        67\n",
            "        sport       0.98      1.00      0.99        56\n",
            "         tech       0.97      1.00      0.98        58\n",
            "\n",
            "     accuracy                           0.98       298\n",
            "    macro avg       0.98      0.98      0.98       298\n",
            " weighted avg       0.98      0.98      0.98       298\n",
            "\n"
          ]
        }
      ],
      "source": [
        "# predicting the validation set labels\n",
        "TFIDF_LR_y_val = TFIDF_LR_grid_search.predict(X_val)\n",
        "\n",
        "print(\"Classification Report - TFIDF_LR:\")\n",
        "print(classification_report(y_val, TFIDF_LR_y_val)) #true, predicted"
      ]
    },
    {
      "cell_type": "code",
      "execution_count": 41,
      "metadata": {
        "colab": {
          "base_uri": "https://localhost:8080/"
        },
        "id": "GEJC53JGsIha",
        "outputId": "f3915da0-54c7-4ab6-e90f-04b8d2786f7f"
      },
      "outputs": [
        {
          "name": "stdout",
          "output_type": "stream",
          "text": [
            "TFIDF_LR confusion matrix: [[67  0  0  1  0]\n",
            " [ 1 47  1  0  0]\n",
            " [ 2  0 63  0  2]\n",
            " [ 0  0  0 56  0]\n",
            " [ 0  0  0  0 58]] \n",
            "\n",
            "TFIDF_LR overall accuracy: 0.9765100671140939\n"
          ]
        }
      ],
      "source": [
        "# confusion matrix\n",
        "LR_val_confusionMatrix = confusion_matrix(y_val, TFIDF_LR_y_val)\n",
        "print(\"TFIDF_LR confusion matrix:\", LR_val_confusionMatrix, \"\\n\")\n",
        "\n",
        "LR_val_acc = np.trace(LR_val_confusionMatrix) / np.sum(LR_val_confusionMatrix) #sum diagonal / sum total\n",
        "print(\"TFIDF_LR overall accuracy:\", LR_val_acc)"
      ]
    },
    {
      "cell_type": "code",
      "execution_count": 42,
      "metadata": {
        "colab": {
          "base_uri": "https://localhost:8080/",
          "height": 472
        },
        "id": "OB0n0-dysIrz",
        "outputId": "7bb25f47-2115-4d67-eae5-68375b8c2727"
      },
      "outputs": [
        {
          "data": {
            "image/png": "[encoded data removed]",
            "text/plain": [
              "<Figure size 640x480 with 1 Axes>"
            ]
          },
          "metadata": {},
          "output_type": "display_data"
        }
      ],
      "source": [
        "# visualizing the distribution of the misclassifications\n",
        "TFIDF_LR_val_misclassifications = LR_val_confusionMatrix.sum(axis=1) - np.diag(LR_val_confusionMatrix)\n",
        "\n",
        "plt.bar(range(1, len(TFIDF_LR_val_misclassifications) + 1), TFIDF_LR_val_misclassifications)\n",
        "plt.xlabel('Class')\n",
        "plt.ylabel('Number of Misclassifications')\n",
        "plt.title('Misclassifications by Class in TFIDF_LR using the Validataion Dataset')\n",
        "plt.show()"
      ]
    },
    {
      "cell_type": "markdown",
      "metadata": {
        "id": "_xfDjJC8jy0v"
      },
      "source": [
        "##### 7.2 Evaluation of the Deep Learning Hybrid Model: TFIDF_ANN"
      ]
    },
    {
      "cell_type": "code",
      "execution_count": 43,
      "metadata": {
        "colab": {
          "base_uri": "https://localhost:8080/"
        },
        "id": "Oha6vcQAjy0w",
        "outputId": "1dcf97c0-e06e-47cf-d810-846023cbe081"
      },
      "outputs": [
        {
          "name": "stdout",
          "output_type": "stream",
          "text": [
            "10/10 [==============================] - 0s 7ms/step\n",
            "Classification Report - TFIDF_ANN:\n",
            "               precision    recall  f1-score   support\n",
            "\n",
            "     business       0.96      1.00      0.98        68\n",
            "entertainment       1.00      0.96      0.98        49\n",
            "     politics       0.98      0.94      0.96        67\n",
            "        sport       1.00      1.00      1.00        56\n",
            "         tech       0.97      1.00      0.98        58\n",
            "\n",
            "     accuracy                           0.98       298\n",
            "    macro avg       0.98      0.98      0.98       298\n",
            " weighted avg       0.98      0.98      0.98       298\n",
            "\n"
          ]
        }
      ],
      "source": [
        "# predicting the validation set labels\n",
        "TFIDF_ANN_y_val_prob = ANN_model.predict(X_val_tfidf)\n",
        "TFIDF_ANN_y_val_integer = np.argmax(TFIDF_ANN_y_val_prob, axis=1)\n",
        "\n",
        "# inverse transforming the TFIDF_ANN_y_val_integer to its original categorical labels\n",
        "TFIDF_ANN_y_val = label_encoder.inverse_transform(TFIDF_ANN_y_val_integer)\n",
        "\n",
        "print(\"Classification Report - TFIDF_ANN:\")\n",
        "print(classification_report(y_val, TFIDF_ANN_y_val)) # true, predicted"
      ]
    },
    {
      "cell_type": "code",
      "execution_count": 44,
      "metadata": {
        "colab": {
          "base_uri": "https://localhost:8080/"
        },
        "id": "ljonHfaCiu4T",
        "outputId": "0037650e-26da-4f8a-ea09-8c1aa3a11ae2"
      },
      "outputs": [
        {
          "name": "stdout",
          "output_type": "stream",
          "text": [
            "TFIDF_ANN confusion matrix: [[68  0  0  0  0]\n",
            " [ 1 47  1  0  0]\n",
            " [ 2  0 63  0  2]\n",
            " [ 0  0  0 56  0]\n",
            " [ 0  0  0  0 58]] \n",
            "\n",
            "TFIDF_ANN overall accuracy: 0.9798657718120806\n"
          ]
        }
      ],
      "source": [
        "# confusion matrix\n",
        "ANN_val_confusionMatrix = confusion_matrix(y_val, TFIDF_ANN_y_val)\n",
        "print(\"TFIDF_ANN confusion matrix:\", ANN_val_confusionMatrix, \"\\n\")\n",
        "\n",
        "ANN_val_acc = np.trace(ANN_val_confusionMatrix) / np.sum(ANN_val_confusionMatrix) #sum diagonal / sum total\n",
        "print(\"TFIDF_ANN overall accuracy:\", ANN_val_acc)"
      ]
    },
    {
      "cell_type": "code",
      "execution_count": 45,
      "metadata": {
        "colab": {
          "base_uri": "https://localhost:8080/",
          "height": 472
        },
        "id": "qD6rCLW0lra1",
        "outputId": "939c417c-0415-4b33-d890-865daa356564"
      },
      "outputs": [
        {
          "data": {
            "image/png": "[encoded data removed]",
            "text/plain": [
              "<Figure size 640x480 with 1 Axes>"
            ]
          },
          "metadata": {},
          "output_type": "display_data"
        }
      ],
      "source": [
        "# visualizing the distribution of the misclassifications\n",
        "TFIDF_ANN_val_misclassifications = ANN_val_confusionMatrix.sum(axis=1) - np.diag(ANN_val_confusionMatrix)\n",
        "\n",
        "plt.bar(range(1, len(TFIDF_ANN_val_misclassifications) + 1), TFIDF_ANN_val_misclassifications)\n",
        "plt.xlabel('Class')\n",
        "plt.ylabel('Number of Misclassifications')\n",
        "plt.title('Misclassifications by Class in TFIDF_ANN using the Validataion Dataset')\n",
        "plt.show()"
      ]
    },
    {
      "cell_type": "markdown",
      "metadata": {
        "id": "i4YSqNb8jy0w"
      },
      "source": [
        "##### Summary for Evaluation Results of the TFIDF_LR vs. TFIDF_ANN Models:\n",
        "Both models have very similar, very good results from their classification report and confusion matrix. Thier overall accuracy is also very close: TFIDF_LR model has an overall accuracy of around 0.9675; while, TFIDF_ANN model has an overall accuracy of about 0.9799, slightly higher than the one for the TFIDF_LR model. TFIDF_LR model misclassified 1, 2, and 4 instances for sport, business, and politics categories, respectively. TFIDF_LR model misclassified 2 and 4 instances for business and politics categories, respectively. Their total number of misclassifications is significantly small for a total number of 1490*20%=298 news articles in the validation dataset X_val, y_val."
      ]
    },
    {
      "cell_type": "markdown",
      "metadata": {
        "id": "Jfo2jNr5jy0w"
      },
      "source": [
        "### 8. Conclusion\n",
        "Since both the TFIDF_LR (overall accuracy 0.9675) and TFIDF_ANN models perform well on the valdation dataset (overall accuracy 0.9799), both models are used to predict the news categories in the unlabelled, unseen BBCtest_data. The predicted categories of the two models only differ on totally 11 out of 735 instances, i.e., about 1.5 % of the entire test data. Even though there is no answer set for the categorization result of this test data, I inspected one raw news article text each, along with their predicted categories from the two models, which seem to be correct. I believe that the TFIDF_LR and the TFIDF_ANN models do indeed perform well on the test data."
      ]
    },
    {
      "cell_type": "code",
      "execution_count": 47,
      "metadata": {
        "id": "rhZlNb4Kjy0x"
      },
      "outputs": [],
      "source": [
        "## predicting the news article categories in BBCtest_data using the TFIDF_LR model\n",
        "TFIDF_LR_y_pred = TFIDF_LR_grid_search.predict(X_test)\n",
        "\n",
        "# adding the predictions to BBCtest_data\n",
        "BBCtest_data['LR_PredictedCategory'] = TFIDF_LR_y_pred"
      ]
    },
    {
      "cell_type": "code",
      "execution_count": 48,
      "metadata": {
        "colab": {
          "base_uri": "https://localhost:8080/"
        },
        "id": "yF6VW0VHjy0x",
        "outputId": "159222f9-bc74-484e-cf3c-df4f6ec2d808"
      },
      "outputs": [
        {
          "name": "stdout",
          "output_type": "stream",
          "text": [
            "23/23 [==============================] - 0s 7ms/step\n"
          ]
        }
      ],
      "source": [
        "## predicting the news article categories in BBCtest_data using the TFIDF_ANN model\n",
        "# predicting the validation set labels\n",
        "X_test_tfidf = TFIDF_vectorizer.transform(X_test).toarray()\n",
        "TFIDF_ANN_y_pred_prob = ANN_model.predict(X_test_tfidf)\n",
        "TFIDF_ANN_y_pred_integer = np.argmax(TFIDF_ANN_y_pred_prob, axis=1)\n",
        "\n",
        "# inverse transforming the TFIDF_ANN_y_val_integer to its original categorical labels\n",
        "TFIDF_ANN_y_pred = label_encoder.inverse_transform(TFIDF_ANN_y_pred_integer)\n",
        "\n",
        "# adding the predictions to BBCtest_data\n",
        "BBCtest_data['ANN_PredictedCategory'] = TFIDF_ANN_y_pred"
      ]
    },
    {
      "cell_type": "code",
      "execution_count": 49,
      "metadata": {
        "colab": {
          "base_uri": "https://localhost:8080/"
        },
        "id": "6QXmsxXUjy0x",
        "outputId": "f1c6279f-403d-4ab3-f3c2-3efae71cc28a"
      },
      "outputs": [
        {
          "name": "stdout",
          "output_type": "stream",
          "text": [
            "    LR_PredictedCategory ANN_PredictedCategory\n",
            "0                  sport                 sport\n",
            "1                   tech                  tech\n",
            "2                  sport                 sport\n",
            "3               business              business\n",
            "4                  sport                 sport\n",
            "..                   ...                   ...\n",
            "730             business              business\n",
            "731        entertainment         entertainment\n",
            "732                 tech                  tech\n",
            "733             business              business\n",
            "734             politics              politics\n",
            "\n",
            "[735 rows x 2 columns]\n"
          ]
        }
      ],
      "source": [
        "# displaying BBCtest_data with the predicted categories and comparing them\n",
        "#print(BBCtest_data[['ArticleId', 'Text', 'LR_PredictedCategory', 'ANN_PredictedCategory']])\n",
        "print(BBCtest_data[['LR_PredictedCategory', 'ANN_PredictedCategory']])"
      ]
    },
    {
      "cell_type": "code",
      "execution_count": 50,
      "metadata": {
        "colab": {
          "base_uri": "https://localhost:8080/"
        },
        "id": "TJm8r5_irbmE",
        "outputId": "c0aa3921-996a-4751-bbdb-7a76f30fa0f2"
      },
      "outputs": [
        {
          "name": "stdout",
          "output_type": "stream",
          "text": [
            "The News Categories Predicted Differently by the Two Models \n",
            "     LR_PredictedCategory ANN_PredictedCategory\n",
            "64         entertainment              business\n",
            "70                  tech              business\n",
            "102             business              politics\n",
            "120             business         entertainment\n",
            "153        entertainment                  tech\n",
            "183             business              politics\n",
            "194                sport                  tech\n",
            "332        entertainment              business\n",
            "422                 tech              business\n",
            "432             business                  tech\n",
            "596                 tech              politics \n",
            "\n",
            "totally 11 out of 735 instances, i.e., about 1.5 %\n"
          ]
        }
      ],
      "source": [
        "# finding rows where the values in the two columns 'LR_PredictedCategory' and 'ANN_PredictedCategory' are different\n",
        "mismatch_condition = BBCtest_data['LR_PredictedCategory'] != BBCtest_data['ANN_PredictedCategory']\n",
        "mismatched_rows = BBCtest_data[mismatch_condition]\n",
        "the_mismatched_rows = mismatched_rows[['LR_PredictedCategory', 'ANN_PredictedCategory']]\n",
        "num_mismatched_rows = mismatch_condition.sum()\n",
        "num_total_news = len(X_test)\n",
        "print(\"The News Categories Predicted Differently by the Two Models\", \"\\n\", the_mismatched_rows, \"\\n\")\n",
        "print(f\"totally {num_mismatched_rows} out of {num_total_news} instances, i.e., about {round(num_mismatched_rows/num_total_news*100,2)} %\")"
      ]
    },
    {
      "cell_type": "code",
      "execution_count": 51,
      "metadata": {
        "colab": {
          "base_uri": "https://localhost:8080/"
        },
        "id": "-A7YXz3GtKPd",
        "outputId": "650a3794-3291-4d0a-fbe8-73e173e5952f"
      },
      "outputs": [
        {
          "name": "stdout",
          "output_type": "stream",
          "text": [
            "1. the content of a randomly selected news article in BBCtest_data : \n",
            "\n",
            "new delay hits eu software laws a fresh delay has hit controversial new european union rules which govern computer-based inventions.  the draft law was not adopted by eu ministers as planned at a brussels meeting on monday during which it was supposed to have been discussed. the fresh delay came after polish officials had raised concerns about the law for the second time in two months. critics say the law would favour large companies over small ones and could impact open-source software innovation.  there was at one point the intention to put the item on today s agenda. but in the end we could not put it on   an eu spokesman told the reuters agency. he added that no date had been chosen for more discussion of the law.  in december  poland requested more time to consider the issue because it was concerned that the law could lead to the patenting of pure computer software. its ministers want to see the phrasing of the text of the directive on the patentability of computer-implemented inventions changed so that it excludes software patenting. poland is a large eu member  so its backing for the legislation is vital. the eu says the law would bring europe more in line with how such laws work in the us  but this has caused some angry debate amongst critics and supporters. in the us  the patenting of computer programs and internet business methods is permitted. this means that the us-based amazon.com holds a patent for its  one-click shopping  service. critics say a similar model in europe would hurt small software developers which do not have the legal and financial might of larger companies. but supporters say current law does not let big companies protect inventions which they have spent years developing. \n",
            "\n",
            "2. the predicted category using TFIDF_LR for the article: \n",
            "\n",
            "tech\n"
          ]
        }
      ],
      "source": [
        "# inspecting the content of a random raw news article in 'Text' in BBCtest_data\n",
        "# and see if it does match its predicted categories in 'LR_PredictedCategory'\n",
        "import random\n",
        "random.seed(20231229)\n",
        "random_index_1 = random.choice(BBCtest_data.index)\n",
        "\n",
        "print(\"1. the content of a randomly selected news article in BBCtest_data :\", \"\\n\")\n",
        "print(BBCtest_data.loc[random_index_1, 'Text'], \"\\n\")\n",
        "\n",
        "\n",
        "print(\"2. the predicted category using TFIDF_LR for the article:\", \"\\n\")\n",
        "print(BBCtest_data.loc[random_index_1, 'LR_PredictedCategory'])"
      ]
    },
    {
      "cell_type": "code",
      "execution_count": 52,
      "metadata": {
        "colab": {
          "base_uri": "https://localhost:8080/"
        },
        "id": "c4h-SW4rtn3f",
        "outputId": "f4d6cd02-aed8-496a-aef7-1eac45d00e50"
      },
      "outputs": [
        {
          "name": "stdout",
          "output_type": "stream",
          "text": [
            "1. the content of another randomly selected news article in BBCtest_data : \n",
            "\n",
            "yukos sues four firms for $20bn russian oil firm yukos has sued four companies for their role in last year s forced state auction of its key oil production unit yuganskneftegas.  yukos is claiming more than $20bn (£11bn) in damages after yugansk was sold in december to settle back taxes. the four companies named in the law suit are gas giant gazprom  its unit gazpromneft  investment company baikal  and state oil firm rosneft. yukos submitted the suit in houston  where it filed for bankruptcy. as well as suing for damages  yukos has asked the us court to send its tax dispute with the russian government to an international arbitrator. it also has submitted a reorganisation plan as part of its chapter 11 bankruptcy filing.  the clash between yukos and the kremlin came to a head last year when yukos was hit with a bill of more than $27bn in back taxes and unpaid fines. to settle the bill  russia forced yukos to sell off yuganskneftegas.  yukos called the sale illegal and has turned to courts in the us in an effort to regain control of the oil production business. it also has vowed to use all legal means at its disposal to go after any firm that tries to buy or take control of its assets. earlier this month it sued the russian government for $28.3bn. analysts have questioned whether a us court has any jurisdiction over russian companies  while moscow officials have dismissed yukos  legal wrangling as meaningless. in houston  bankruptcy judge letitia clark will start a two-day hearing on 16 february to hear arguments on whether a us court is the proper forum for the case.  the threat of legal action from yukos and its bankruptcy filing in houston did have an effect on last year s auction  however. concerned that it would be caught up in a court battle  gazprom and gazpromneft withdrew from the auction  and yuganskneftegas was sold to little-known investment firm baikal finance group. a few days later  baikal gave control of the company to state-run oil group rosneft for $9.3bn. rosneft  meanwhile  has agreed to merge with gazprom  bringing a large chunk of russia s very profitable oil business back under state control. yukos claims that the rights of its shareholders have been ignored and that is has been punished for the political ambitions of its founder mikhail khodorkovsky. mr khodorkovsky  once russia s richest man  is in prison  having been charged with fraud and tax evasion and repeatedly denied bail. \n",
            "\n",
            "2. the predicted category using TFIDF_ANN for the article: \n",
            "\n",
            "business\n"
          ]
        }
      ],
      "source": [
        "# inspecting the content of a random raw news article in 'Text' in BBCtest_data\n",
        "# and see if it does match its predicted categories in 'ANN_PredictedCategory'\n",
        "import random\n",
        "random.seed(20231230)\n",
        "random_index_2 = random.choice(BBCtest_data.index)\n",
        "\n",
        "print(\"1. the content of another randomly selected news article in BBCtest_data :\", \"\\n\")\n",
        "print(BBCtest_data.loc[random_index_2, 'Text'], \"\\n\")\n",
        "\n",
        "\n",
        "print(\"2. the predicted category using TFIDF_ANN for the article:\", \"\\n\")\n",
        "print(BBCtest_data.loc[random_index_2, 'ANN_PredictedCategory'])"
      ]
    },
    {
      "cell_type": "markdown",
      "metadata": {
        "id": "aX5hH2rcjy0y"
      },
      "source": [
        "### 9. References\n",
        "Bijoy Bose. (2019). BBC News Classification. Kaggle. https://kaggle.com/competitions/learn-ai-bbc <br>\n",
        "Sentdex. (2015). NLTK with Python 3 for Natural Language Processing. Youtube. https://www.youtube.com/playlist?list=PLQVvvaa0QuDf2JswnfiGkliBInZnIC4HL  <br>\n",
        "GridSearchCV. https://scikit-learn.org/stable/modules/generated/sklearn.model_selection.GridSearchCV.html  <br>\n",
        "Keras Tuner. https://www.tensorflow.org/tutorials/keras/keras_tuner  <br>\n",
        "Logistic Regression. https://scikit-learn.org/stable/modules/generated/sklearn.linear_model.LogisticRegression.html  <br>\n",
        "Dertat. (2017). \"Applied Deep Learning - Part 1: Artificial Neural Networks\". https://towardsdatascience.com/applied-deep-learning-part-1-artificial-neural-networks-d7834f67a4f6"
      ]
    }
  ],
  "metadata": {
    "colab": {
      "provenance": []
    },
    "kernelspec": {
      "display_name": "Python 3",
      "language": "python",
      "name": "python3"
    },
    "language_info": {
      "codemirror_mode": {
        "name": "ipython",
        "version": 3
      },
      "file_extension": ".py",
      "mimetype": "text/x-python",
      "name": "python",
      "nbconvert_exporter": "python",
      "pygments_lexer": "ipython3",
      "version": "3.7.6"
    }
  },
  "nbformat": 4,
  "nbformat_minor": 0
}
